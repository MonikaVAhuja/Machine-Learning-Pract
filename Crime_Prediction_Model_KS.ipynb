{
 "cells": [
  {
   "cell_type": "code",
   "execution_count": 231,
   "metadata": {},
   "outputs": [],
   "source": [
    "#!pip install ggplot\n",
    "import pandas as pd\n",
    "import numpy as np\n",
    "import matplotlib.pyplot as plt\n",
    "import seaborn as sns\n",
    "from pandas import DataFrame, Series\n",
    "import statsmodels.formula.api as sm  #Building the optimal model using Backward Elimination\n",
    "from sklearn.linear_model import LinearRegression\n",
    "from sklearn import preprocessing\n",
    "from sklearn.preprocessing import StandardScaler\n",
    "import scipy, scipy.stats\n",
    "from sklearn import svm\n",
    "from ggplot import *"
   ]
  },
  {
   "cell_type": "code",
   "execution_count": 232,
   "metadata": {},
   "outputs": [],
   "source": [
    "#Cleansed and Combined Dataset for Kansas City crime prediction\n",
    "url='C:/Users/deepa/Downloads/Crime_Data/kcpd_agged_final.csv'"
   ]
  },
  {
   "cell_type": "code",
   "execution_count": 233,
   "metadata": {},
   "outputs": [],
   "source": [
    "dataset=pd.read_csv(url)"
   ]
  },
  {
   "cell_type": "code",
   "execution_count": 234,
   "metadata": {},
   "outputs": [],
   "source": [
    "#dataset.head()"
   ]
  },
  {
   "cell_type": "code",
   "execution_count": 235,
   "metadata": {},
   "outputs": [],
   "source": [
    "#dataset.describe()"
   ]
  },
  {
   "cell_type": "code",
   "execution_count": 236,
   "metadata": {},
   "outputs": [],
   "source": [
    "#dataset.info()"
   ]
  },
  {
   "cell_type": "code",
   "execution_count": 237,
   "metadata": {},
   "outputs": [],
   "source": [
    "def describe_categorical(X):\n",
    "    \"\"\"\n",
    "    This will create a table for looking at the categorical variables based on the dtype\n",
    "    \"\"\"\n",
    "    from IPython.display import display, HTML\n",
    "    display(HTML(X[X.columns[X.dtypes == 'object']].describe().to_html()))"
   ]
  },
  {
   "cell_type": "code",
   "execution_count": 238,
   "metadata": {},
   "outputs": [
    {
     "data": {
      "text/html": [
       "<table border=\"1\" class=\"dataframe\">\n",
       "  <thead>\n",
       "    <tr style=\"text-align: right;\">\n",
       "      <th></th>\n",
       "      <th>from_date</th>\n",
       "      <th>city</th>\n",
       "    </tr>\n",
       "  </thead>\n",
       "  <tbody>\n",
       "    <tr>\n",
       "      <th>count</th>\n",
       "      <td>4363</td>\n",
       "      <td>4363</td>\n",
       "    </tr>\n",
       "    <tr>\n",
       "      <th>unique</th>\n",
       "      <td>84</td>\n",
       "      <td>40</td>\n",
       "    </tr>\n",
       "    <tr>\n",
       "      <th>top</th>\n",
       "      <td>2010-03-01</td>\n",
       "      <td>Kansas City</td>\n",
       "    </tr>\n",
       "    <tr>\n",
       "      <th>freq</th>\n",
       "      <td>58</td>\n",
       "      <td>4011</td>\n",
       "    </tr>\n",
       "  </tbody>\n",
       "</table>"
      ],
      "text/plain": [
       "<IPython.core.display.HTML object>"
      ]
     },
     "metadata": {},
     "output_type": "display_data"
    }
   ],
   "source": [
    "describe_categorical(dataset)"
   ]
  },
  {
   "cell_type": "code",
   "execution_count": 239,
   "metadata": {},
   "outputs": [],
   "source": [
    "#dataset1[dataset1['city'] == 'Kansas City'].city.value_counts()"
   ]
  },
  {
   "cell_type": "code",
   "execution_count": 212,
   "metadata": {},
   "outputs": [],
   "source": [
    "#dataset = dataset1[(dataset1['city'] == 'Kansas City')]"
   ]
  },
  {
   "cell_type": "code",
   "execution_count": 213,
   "metadata": {},
   "outputs": [],
   "source": [
    "#Considering only those records which are having 'Kansas City' as the listed city \n",
    "#dataset['city'] = dataset['city'].apply(lambda x: 1 if x == 'Kansas City' else 0)"
   ]
  },
  {
   "cell_type": "code",
   "execution_count": 240,
   "metadata": {},
   "outputs": [
    {
     "data": {
      "text/plain": [
       "Index(['Unnamed: 0', 'from_date', 'zip_code', 'offense_society',\n",
       "       'offense_person', 'offense_property', 'offense_other', 'dv', 'firearm',\n",
       "       'offense_total', 'year', 'month', 'quarter', 'zip', 'city',\n",
       "       'population', 'unemployment_rate', 'house_price_index',\n",
       "       'per_cap_income', 'new_priv_housing'],\n",
       "      dtype='object')"
      ]
     },
     "execution_count": 240,
     "metadata": {},
     "output_type": "execute_result"
    }
   ],
   "source": [
    "dataset.columns"
   ]
  },
  {
   "cell_type": "code",
   "execution_count": 241,
   "metadata": {},
   "outputs": [
    {
     "name": "stdout",
     "output_type": "stream",
     "text": [
      "<class 'pandas.core.frame.DataFrame'>\n",
      "RangeIndex: 4363 entries, 0 to 4362\n",
      "Data columns (total 20 columns):\n",
      "Unnamed: 0           4363 non-null int64\n",
      "from_date            4363 non-null object\n",
      "zip_code             4363 non-null int64\n",
      "offense_society      4363 non-null int64\n",
      "offense_person       4363 non-null int64\n",
      "offense_property     4363 non-null int64\n",
      "offense_other        4363 non-null int64\n",
      "dv                   4363 non-null int64\n",
      "firearm              4363 non-null int64\n",
      "offense_total        4363 non-null int64\n",
      "year                 4363 non-null int64\n",
      "month                4363 non-null int64\n",
      "quarter              4363 non-null int64\n",
      "zip                  4363 non-null int64\n",
      "city                 4363 non-null object\n",
      "population           4363 non-null int64\n",
      "unemployment_rate    4363 non-null float64\n",
      "house_price_index    4363 non-null float64\n",
      "per_cap_income       4363 non-null int64\n",
      "new_priv_housing     4363 non-null float64\n",
      "dtypes: float64(3), int64(15), object(2)\n",
      "memory usage: 681.8+ KB\n"
     ]
    }
   ],
   "source": [
    "dataset.info()"
   ]
  },
  {
   "cell_type": "code",
   "execution_count": 323,
   "metadata": {},
   "outputs": [],
   "source": [
    "dataset['from_date'] = (dataset['year'].astype(str)+dataset['month'].astype(str)).astype(int)"
   ]
  },
  {
   "cell_type": "code",
   "execution_count": 324,
   "metadata": {},
   "outputs": [
    {
     "data": {
      "text/plain": [
       "pandas.core.series.Series"
      ]
     },
     "execution_count": 324,
     "metadata": {},
     "output_type": "execute_result"
    }
   ],
   "source": [
    "type(dataset['year'])"
   ]
  },
  {
   "cell_type": "code",
   "execution_count": 325,
   "metadata": {},
   "outputs": [
    {
     "name": "stdout",
     "output_type": "stream",
     "text": [
      "<class 'pandas.core.frame.DataFrame'>\n",
      "RangeIndex: 4363 entries, 0 to 4362\n",
      "Data columns (total 19 columns):\n",
      "Unnamed: 0           4363 non-null int64\n",
      "from_date            4363 non-null int32\n",
      "zip_code             4363 non-null int64\n",
      "offense_society      4363 non-null int64\n",
      "offense_person       4363 non-null int64\n",
      "offense_property     4363 non-null int64\n",
      "offense_other        4363 non-null int64\n",
      "dv                   4363 non-null int64\n",
      "firearm              4363 non-null int64\n",
      "year                 4363 non-null int64\n",
      "month                4363 non-null int64\n",
      "quarter              4363 non-null int64\n",
      "zip                  4363 non-null int64\n",
      "city                 4363 non-null object\n",
      "population           4363 non-null int64\n",
      "unemployment_rate    4363 non-null float64\n",
      "house_price_index    4363 non-null float64\n",
      "per_cap_income       4363 non-null int64\n",
      "new_priv_housing     4363 non-null float64\n",
      "dtypes: float64(3), int32(1), int64(14), object(1)\n",
      "memory usage: 630.7+ KB\n"
     ]
    }
   ],
   "source": [
    "dataset.info()"
   ]
  },
  {
   "cell_type": "code",
   "execution_count": 245,
   "metadata": {},
   "outputs": [
    {
     "name": "stdout",
     "output_type": "stream",
     "text": [
      "                   Unnamed: 0  from_date  zip_code  offense_society  \\\n",
      "Unnamed: 0           1.000000   0.070079  0.029485         0.050931   \n",
      "from_date            0.070079   1.000000  0.003544        -0.020236   \n",
      "zip_code             0.029485   0.003544  1.000000        -0.013464   \n",
      "offense_society      0.050931  -0.020236 -0.013464         1.000000   \n",
      "offense_person      -0.006088  -0.022543 -0.085601         0.732168   \n",
      "offense_property    -0.043287   0.015906 -0.016849         0.854455   \n",
      "offense_other        0.036304   0.018279 -0.016868         0.909733   \n",
      "dv                   0.081884  -0.017295  0.019898         0.942327   \n",
      "firearm              0.039547  -0.026730 -0.050742         0.840795   \n",
      "offense_total       -0.007575   0.001860 -0.028458         0.942247   \n",
      "year                 0.989721   0.002728  0.021559         0.049468   \n",
      "month                0.105780   0.747370  0.012872         0.021590   \n",
      "quarter              0.104709   0.769962  0.014257         0.024104   \n",
      "zip                  0.029485   0.003544  1.000000        -0.013464   \n",
      "population           0.073774   0.007282  0.479888         0.214633   \n",
      "unemployment_rate   -0.974496  -0.110334 -0.022666        -0.050055   \n",
      "house_price_index    0.740680   0.122910  0.011699         0.061147   \n",
      "per_cap_income       0.966793   0.001629  0.021258         0.045218   \n",
      "new_priv_housing     0.714178   0.001247  0.027728         0.059021   \n",
      "\n",
      "                   offense_person  offense_property  offense_other        dv  \\\n",
      "Unnamed: 0              -0.006088         -0.043287       0.036304  0.081884   \n",
      "from_date               -0.022543          0.015906       0.018279 -0.017295   \n",
      "zip_code                -0.085601         -0.016849      -0.016868  0.019898   \n",
      "offense_society          0.732168          0.854455       0.909733  0.942327   \n",
      "offense_person           1.000000          0.738977       0.618959  0.621491   \n",
      "offense_property         0.738977          1.000000       0.767756  0.794643   \n",
      "offense_other            0.618959          0.767756       1.000000  0.824937   \n",
      "dv                       0.621491          0.794643       0.824937  1.000000   \n",
      "firearm                  0.781840          0.779948       0.776041  0.780840   \n",
      "offense_total            0.822146          0.969857       0.863390  0.867420   \n",
      "year                    -0.006398         -0.047347       0.035106  0.079629   \n",
      "month                    0.014385          0.050995       0.041855  0.018507   \n",
      "quarter                  0.017263          0.058283       0.044145  0.021631   \n",
      "zip                     -0.085601         -0.016849      -0.016868  0.019898   \n",
      "population               0.197300          0.280626       0.166326  0.207208   \n",
      "unemployment_rate        0.006565          0.038356      -0.036625 -0.078102   \n",
      "house_price_index       -0.000886         -0.018690       0.071098  0.081705   \n",
      "per_cap_income          -0.008297         -0.047707       0.024932  0.075281   \n",
      "new_priv_housing         0.018182         -0.010628       0.037717  0.074639   \n",
      "\n",
      "                    firearm  offense_total      year     month   quarter  \\\n",
      "Unnamed: 0         0.039547      -0.007575  0.989721  0.105780  0.104709   \n",
      "from_date         -0.026730       0.001860  0.002728  0.747370  0.769962   \n",
      "zip_code          -0.050742      -0.028458  0.021559  0.012872  0.014257   \n",
      "offense_society    0.840795       0.942247  0.049468  0.021590  0.024104   \n",
      "offense_person     0.781840       0.822146 -0.006398  0.014385  0.017263   \n",
      "offense_property   0.779948       0.969857 -0.047347  0.050995  0.058283   \n",
      "offense_other      0.776041       0.863390  0.035106  0.041855  0.044145   \n",
      "dv                 0.780840       0.867420  0.079629  0.018507  0.021631   \n",
      "firearm            1.000000       0.854144  0.041253 -0.007903 -0.005995   \n",
      "offense_total      0.854144       1.000000 -0.010349  0.040339  0.045683   \n",
      "year               0.041253      -0.010349  1.000000 -0.000571  0.000223   \n",
      "month             -0.007903       0.040339 -0.000571  1.000000  0.971261   \n",
      "quarter           -0.005995       0.045683  0.000223  0.971261  1.000000   \n",
      "zip               -0.050742      -0.028458  0.021559  0.012872  0.014257   \n",
      "population         0.189234       0.258651  0.072052  0.011214  0.011595   \n",
      "unemployment_rate -0.031268       0.005150 -0.970666 -0.137058 -0.134858   \n",
      "house_price_index  0.054876       0.013167  0.734161  0.177609  0.182207   \n",
      "per_cap_income     0.028330      -0.013068  0.975803 -0.002292 -0.001535   \n",
      "new_priv_housing   0.048118       0.016433  0.690250  0.157976  0.143722   \n",
      "\n",
      "                        zip  population  unemployment_rate  house_price_index  \\\n",
      "Unnamed: 0         0.029485    0.073774          -0.974496           0.740680   \n",
      "from_date          0.003544    0.007282          -0.110334           0.122910   \n",
      "zip_code           1.000000    0.479888          -0.022666           0.011699   \n",
      "offense_society   -0.013464    0.214633          -0.050055           0.061147   \n",
      "offense_person    -0.085601    0.197300           0.006565          -0.000886   \n",
      "offense_property  -0.016849    0.280626           0.038356          -0.018690   \n",
      "offense_other     -0.016868    0.166326          -0.036625           0.071098   \n",
      "dv                 0.019898    0.207208          -0.078102           0.081705   \n",
      "firearm           -0.050742    0.189234          -0.031268           0.054876   \n",
      "offense_total     -0.028458    0.258651           0.005150           0.013167   \n",
      "year               0.021559    0.072052          -0.970666           0.734161   \n",
      "month              0.012872    0.011214          -0.137058           0.177609   \n",
      "quarter            0.014257    0.011595          -0.134858           0.182207   \n",
      "zip                1.000000    0.479888          -0.022666           0.011699   \n",
      "population         0.479888    1.000000          -0.073321           0.052489   \n",
      "unemployment_rate -0.022666   -0.073321           1.000000          -0.669998   \n",
      "house_price_index  0.011699    0.052489          -0.669998           1.000000   \n",
      "per_cap_income     0.021258    0.070196          -0.978422           0.610706   \n",
      "new_priv_housing   0.027728    0.044453          -0.694920           0.501486   \n",
      "\n",
      "                   per_cap_income  new_priv_housing  \n",
      "Unnamed: 0               0.966793          0.714178  \n",
      "from_date                0.001629          0.001247  \n",
      "zip_code                 0.021258          0.027728  \n",
      "offense_society          0.045218          0.059021  \n",
      "offense_person          -0.008297          0.018182  \n",
      "offense_property        -0.047707         -0.010628  \n",
      "offense_other            0.024932          0.037717  \n",
      "dv                       0.075281          0.074639  \n",
      "firearm                  0.028330          0.048118  \n",
      "offense_total           -0.013068          0.016433  \n",
      "year                     0.975803          0.690250  \n",
      "month                   -0.002292          0.157976  \n",
      "quarter                 -0.001535          0.143722  \n",
      "zip                      0.021258          0.027728  \n",
      "population               0.070196          0.044453  \n",
      "unemployment_rate       -0.978422         -0.694920  \n",
      "house_price_index        0.610706          0.501486  \n",
      "per_cap_income           1.000000          0.676312  \n",
      "new_priv_housing         0.676312          1.000000  \n"
     ]
    }
   ],
   "source": [
    "#Correlation among all the features\n",
    "print(dataset.corr())"
   ]
  },
  {
   "cell_type": "code",
   "execution_count": 246,
   "metadata": {},
   "outputs": [
    {
     "data": {
      "text/html": [
       "<div>\n",
       "<style scoped>\n",
       "    .dataframe tbody tr th:only-of-type {\n",
       "        vertical-align: middle;\n",
       "    }\n",
       "\n",
       "    .dataframe tbody tr th {\n",
       "        vertical-align: top;\n",
       "    }\n",
       "\n",
       "    .dataframe thead th {\n",
       "        text-align: right;\n",
       "    }\n",
       "</style>\n",
       "<table border=\"1\" class=\"dataframe\">\n",
       "  <thead>\n",
       "    <tr style=\"text-align: right;\">\n",
       "      <th></th>\n",
       "      <th>Unnamed: 0</th>\n",
       "      <th>from_date</th>\n",
       "      <th>zip_code</th>\n",
       "      <th>offense_society</th>\n",
       "      <th>offense_person</th>\n",
       "      <th>offense_property</th>\n",
       "      <th>offense_other</th>\n",
       "      <th>dv</th>\n",
       "      <th>firearm</th>\n",
       "      <th>offense_total</th>\n",
       "      <th>year</th>\n",
       "      <th>month</th>\n",
       "      <th>quarter</th>\n",
       "      <th>zip</th>\n",
       "      <th>city</th>\n",
       "      <th>population</th>\n",
       "      <th>unemployment_rate</th>\n",
       "      <th>house_price_index</th>\n",
       "      <th>per_cap_income</th>\n",
       "      <th>new_priv_housing</th>\n",
       "    </tr>\n",
       "  </thead>\n",
       "  <tbody>\n",
       "    <tr>\n",
       "      <th>0</th>\n",
       "      <td>0</td>\n",
       "      <td>20101</td>\n",
       "      <td>64055</td>\n",
       "      <td>0</td>\n",
       "      <td>0</td>\n",
       "      <td>1</td>\n",
       "      <td>0</td>\n",
       "      <td>0</td>\n",
       "      <td>0</td>\n",
       "      <td>1</td>\n",
       "      <td>2010</td>\n",
       "      <td>1</td>\n",
       "      <td>1</td>\n",
       "      <td>64055</td>\n",
       "      <td>Independence</td>\n",
       "      <td>116792</td>\n",
       "      <td>8.8</td>\n",
       "      <td>165.14</td>\n",
       "      <td>40874</td>\n",
       "      <td>127.0</td>\n",
       "    </tr>\n",
       "    <tr>\n",
       "      <th>1</th>\n",
       "      <td>1</td>\n",
       "      <td>20101</td>\n",
       "      <td>64101</td>\n",
       "      <td>0</td>\n",
       "      <td>0</td>\n",
       "      <td>4</td>\n",
       "      <td>0</td>\n",
       "      <td>0</td>\n",
       "      <td>0</td>\n",
       "      <td>4</td>\n",
       "      <td>2010</td>\n",
       "      <td>1</td>\n",
       "      <td>1</td>\n",
       "      <td>64101</td>\n",
       "      <td>Kansas City</td>\n",
       "      <td>459946</td>\n",
       "      <td>8.8</td>\n",
       "      <td>165.14</td>\n",
       "      <td>40874</td>\n",
       "      <td>127.0</td>\n",
       "    </tr>\n",
       "    <tr>\n",
       "      <th>2</th>\n",
       "      <td>2</td>\n",
       "      <td>20101</td>\n",
       "      <td>64102</td>\n",
       "      <td>0</td>\n",
       "      <td>0</td>\n",
       "      <td>1</td>\n",
       "      <td>0</td>\n",
       "      <td>0</td>\n",
       "      <td>0</td>\n",
       "      <td>1</td>\n",
       "      <td>2010</td>\n",
       "      <td>1</td>\n",
       "      <td>1</td>\n",
       "      <td>64102</td>\n",
       "      <td>Kansas City</td>\n",
       "      <td>459946</td>\n",
       "      <td>8.8</td>\n",
       "      <td>165.14</td>\n",
       "      <td>40874</td>\n",
       "      <td>127.0</td>\n",
       "    </tr>\n",
       "    <tr>\n",
       "      <th>3</th>\n",
       "      <td>3</td>\n",
       "      <td>20101</td>\n",
       "      <td>64105</td>\n",
       "      <td>10</td>\n",
       "      <td>26</td>\n",
       "      <td>81</td>\n",
       "      <td>4</td>\n",
       "      <td>2</td>\n",
       "      <td>3</td>\n",
       "      <td>121</td>\n",
       "      <td>2010</td>\n",
       "      <td>1</td>\n",
       "      <td>1</td>\n",
       "      <td>64105</td>\n",
       "      <td>Kansas City</td>\n",
       "      <td>459946</td>\n",
       "      <td>8.8</td>\n",
       "      <td>165.14</td>\n",
       "      <td>40874</td>\n",
       "      <td>127.0</td>\n",
       "    </tr>\n",
       "    <tr>\n",
       "      <th>4</th>\n",
       "      <td>4</td>\n",
       "      <td>20101</td>\n",
       "      <td>64106</td>\n",
       "      <td>35</td>\n",
       "      <td>73</td>\n",
       "      <td>119</td>\n",
       "      <td>6</td>\n",
       "      <td>8</td>\n",
       "      <td>13</td>\n",
       "      <td>233</td>\n",
       "      <td>2010</td>\n",
       "      <td>1</td>\n",
       "      <td>1</td>\n",
       "      <td>64106</td>\n",
       "      <td>Kansas City</td>\n",
       "      <td>459946</td>\n",
       "      <td>8.8</td>\n",
       "      <td>165.14</td>\n",
       "      <td>40874</td>\n",
       "      <td>127.0</td>\n",
       "    </tr>\n",
       "  </tbody>\n",
       "</table>\n",
       "</div>"
      ],
      "text/plain": [
       "   Unnamed: 0  from_date  zip_code  offense_society  offense_person  \\\n",
       "0           0      20101     64055                0               0   \n",
       "1           1      20101     64101                0               0   \n",
       "2           2      20101     64102                0               0   \n",
       "3           3      20101     64105               10              26   \n",
       "4           4      20101     64106               35              73   \n",
       "\n",
       "   offense_property  offense_other  dv  firearm  offense_total  year  month  \\\n",
       "0                 1              0   0        0              1  2010      1   \n",
       "1                 4              0   0        0              4  2010      1   \n",
       "2                 1              0   0        0              1  2010      1   \n",
       "3                81              4   2        3            121  2010      1   \n",
       "4               119              6   8       13            233  2010      1   \n",
       "\n",
       "   quarter    zip          city  population  unemployment_rate  \\\n",
       "0        1  64055  Independence      116792                8.8   \n",
       "1        1  64101   Kansas City      459946                8.8   \n",
       "2        1  64102   Kansas City      459946                8.8   \n",
       "3        1  64105   Kansas City      459946                8.8   \n",
       "4        1  64106   Kansas City      459946                8.8   \n",
       "\n",
       "   house_price_index  per_cap_income  new_priv_housing  \n",
       "0             165.14           40874             127.0  \n",
       "1             165.14           40874             127.0  \n",
       "2             165.14           40874             127.0  \n",
       "3             165.14           40874             127.0  \n",
       "4             165.14           40874             127.0  "
      ]
     },
     "execution_count": 246,
     "metadata": {},
     "output_type": "execute_result"
    }
   ],
   "source": [
    "dataset.head(5)"
   ]
  },
  {
   "cell_type": "markdown",
   "metadata": {},
   "source": [
    "# Input Data Visualizations to understand relationship between predictors"
   ]
  },
  {
   "cell_type": "code",
   "execution_count": 221,
   "metadata": {},
   "outputs": [
    {
     "data": {
      "image/png": "[encoded data removed]",
      "text/plain": [
       "<matplotlib.figure.Figure at 0x1abe65167b8>"
      ]
     },
     "metadata": {},
     "output_type": "display_data"
    }
   ],
   "source": [
    "plt.plot( dataset['zip_code'],dataset['offense_total'])\n",
    "plt.axis([64000,64300,0,700])\n",
    "plt.ylabel('Total Crime',size=20,color='blue')\n",
    "plt.xlabel('zip_code',size=20,color='blue')\n",
    "plt.title('ZipCode VS Total Crime',size=20,color='blue')\n",
    "plt.show()"
   ]
  },
  {
   "cell_type": "code",
   "execution_count": 328,
   "metadata": {},
   "outputs": [
    {
     "data": {
      "image/png": "[encoded data removed]",
      "text/plain": [
       "<matplotlib.figure.Figure at 0x1abe89b0b70>"
      ]
     },
     "metadata": {},
     "output_type": "display_data"
    }
   ],
   "source": [
    "plt.plot( dataset['year'],dataset['per_cap_income'])\n",
    "plt.ylabel('per_cap_income',size=20,color='blue')\n",
    "plt.xlabel('year',size=20,color='blue')\n",
    "plt.title('Per Capita Income VS Year',size=20,color='blue')\n",
    "plt.show()"
   ]
  },
  {
   "cell_type": "code",
   "execution_count": 223,
   "metadata": {},
   "outputs": [
    {
     "data": {
      "image/png": "[encoded data removed]",
      "text/plain": [
       "<matplotlib.figure.Figure at 0x1abe5d77ba8>"
      ]
     },
     "metadata": {},
     "output_type": "display_data"
    }
   ],
   "source": [
    "plt.scatter( dataset['population'],dataset['offense_total'])\n",
    "plt.ylabel('Total Crime',size=20,color='blue')\n",
    "plt.xlabel('population',size=20,color='blue')\n",
    "plt.title('Population VS Total Crime',size=20,color='blue')\n",
    "plt.show()"
   ]
  },
  {
   "cell_type": "code",
   "execution_count": 329,
   "metadata": {},
   "outputs": [
    {
     "data": {
      "image/png": "[encoded data removed]",
      "text/plain": [
       "<matplotlib.figure.Figure at 0x1abe723c978>"
      ]
     },
     "metadata": {},
     "output_type": "display_data"
    }
   ],
   "source": [
    "plt.plot( dataset['year'],dataset['unemployment_rate'])\n",
    "plt.ylabel('unemployment_rate',size=20,color='blue')\n",
    "plt.xlabel('year',size=20,color='blue')\n",
    "plt.title('Umemployment Rate VS Year',size=20,color='blue')\n",
    "plt.show()"
   ]
  },
  {
   "cell_type": "code",
   "execution_count": 332,
   "metadata": {},
   "outputs": [
    {
     "data": {
      "image/png": "[encoded data removed]",
      "text/plain": [
       "<matplotlib.figure.Figure at 0x1abe9c36940>"
      ]
     },
     "metadata": {},
     "output_type": "display_data"
    }
   ],
   "source": [
    "plt.plot( dataset['year'],dataset['house_price_index'])\n",
    "#plt.axis([20101,201012,155,200])\n",
    "plt.ylabel('House Price Index',size=20,color='blue')\n",
    "plt.xlabel('year',size=20,color='blue')\n",
    "plt.title('House Price Index VS Year',size=20,color='blue')\n",
    "plt.show()"
   ]
  },
  {
   "cell_type": "code",
   "execution_count": 333,
   "metadata": {},
   "outputs": [
    {
     "data": {
      "image/png": "[encoded data removed]",
      "text/plain": [
       "<matplotlib.figure.Figure at 0x1abeadd6470>"
      ]
     },
     "metadata": {},
     "output_type": "display_data"
    }
   ],
   "source": [
    "plt.scatter( dataset['year'],dataset['population'])\n",
    "plt.ylabel('Population',size=20,color='blue')\n",
    "plt.xlabel('year',size=20,color='blue')\n",
    "plt.title('Population VS year',size=20,color='blue')\n",
    "plt.show()"
   ]
  },
  {
   "cell_type": "code",
   "execution_count": 334,
   "metadata": {},
   "outputs": [
    {
     "ename": "KeyError",
     "evalue": "'offense_total'",
     "output_type": "error",
     "traceback": [
      "\u001b[1;31m---------------------------------------------------------------------------\u001b[0m",
      "\u001b[1;31mKeyError\u001b[0m                                  Traceback (most recent call last)",
      "\u001b[1;32m~\\AppData\\Local\\Continuum\\anaconda3\\lib\\site-packages\\pandas\\core\\indexes\\base.py\u001b[0m in \u001b[0;36mget_loc\u001b[1;34m(self, key, method, tolerance)\u001b[0m\n\u001b[0;32m   2524\u001b[0m             \u001b[1;32mtry\u001b[0m\u001b[1;33m:\u001b[0m\u001b[1;33m\u001b[0m\u001b[0m\n\u001b[1;32m-> 2525\u001b[1;33m                 \u001b[1;32mreturn\u001b[0m \u001b[0mself\u001b[0m\u001b[1;33m.\u001b[0m\u001b[0m_engine\u001b[0m\u001b[1;33m.\u001b[0m\u001b[0mget_loc\u001b[0m\u001b[1;33m(\u001b[0m\u001b[0mkey\u001b[0m\u001b[1;33m)\u001b[0m\u001b[1;33m\u001b[0m\u001b[0m\n\u001b[0m\u001b[0;32m   2526\u001b[0m             \u001b[1;32mexcept\u001b[0m \u001b[0mKeyError\u001b[0m\u001b[1;33m:\u001b[0m\u001b[1;33m\u001b[0m\u001b[0m\n",
      "\u001b[1;32mpandas/_libs/index.pyx\u001b[0m in \u001b[0;36mpandas._libs.index.IndexEngine.get_loc\u001b[1;34m()\u001b[0m\n",
      "\u001b[1;32mpandas/_libs/index.pyx\u001b[0m in \u001b[0;36mpandas._libs.index.IndexEngine.get_loc\u001b[1;34m()\u001b[0m\n",
      "\u001b[1;32mpandas/_libs/hashtable_class_helper.pxi\u001b[0m in \u001b[0;36mpandas._libs.hashtable.PyObjectHashTable.get_item\u001b[1;34m()\u001b[0m\n",
      "\u001b[1;32mpandas/_libs/hashtable_class_helper.pxi\u001b[0m in \u001b[0;36mpandas._libs.hashtable.PyObjectHashTable.get_item\u001b[1;34m()\u001b[0m\n",
      "\u001b[1;31mKeyError\u001b[0m: 'offense_total'",
      "\nDuring handling of the above exception, another exception occurred:\n",
      "\u001b[1;31mKeyError\u001b[0m                                  Traceback (most recent call last)",
      "\u001b[1;32m<ipython-input-334-65dfaf454695>\u001b[0m in \u001b[0;36m<module>\u001b[1;34m()\u001b[0m\n\u001b[0;32m      2\u001b[0m \u001b[1;31m#'offense_property', 'offense_society','offense_other'.\u001b[0m\u001b[1;33m\u001b[0m\u001b[1;33m\u001b[0m\u001b[0m\n\u001b[0;32m      3\u001b[0m \u001b[0mX\u001b[0m\u001b[1;33m=\u001b[0m\u001b[0mdataset\u001b[0m\u001b[1;33m\u001b[0m\u001b[0m\n\u001b[1;32m----> 4\u001b[1;33m \u001b[0my\u001b[0m\u001b[1;33m=\u001b[0m\u001b[0mX\u001b[0m\u001b[1;33m.\u001b[0m\u001b[0mpop\u001b[0m\u001b[1;33m(\u001b[0m\u001b[1;34m'offense_total'\u001b[0m\u001b[1;33m)\u001b[0m\u001b[1;33m\u001b[0m\u001b[0m\n\u001b[0m\u001b[0;32m      5\u001b[0m \u001b[1;31m#y=pd.DataFrame({'offense_total':y.values})\u001b[0m\u001b[1;33m\u001b[0m\u001b[1;33m\u001b[0m\u001b[0m\n",
      "\u001b[1;32m~\\AppData\\Local\\Continuum\\anaconda3\\lib\\site-packages\\pandas\\core\\generic.py\u001b[0m in \u001b[0;36mpop\u001b[1;34m(self, item)\u001b[0m\n\u001b[0;32m    671\u001b[0m         \u001b[1;36m3\u001b[0m  \u001b[0mmonkey\u001b[0m        \u001b[0mNaN\u001b[0m\u001b[1;33m\u001b[0m\u001b[0m\n\u001b[0;32m    672\u001b[0m         \"\"\"\n\u001b[1;32m--> 673\u001b[1;33m         \u001b[0mresult\u001b[0m \u001b[1;33m=\u001b[0m \u001b[0mself\u001b[0m\u001b[1;33m[\u001b[0m\u001b[0mitem\u001b[0m\u001b[1;33m]\u001b[0m\u001b[1;33m\u001b[0m\u001b[0m\n\u001b[0m\u001b[0;32m    674\u001b[0m         \u001b[1;32mdel\u001b[0m \u001b[0mself\u001b[0m\u001b[1;33m[\u001b[0m\u001b[0mitem\u001b[0m\u001b[1;33m]\u001b[0m\u001b[1;33m\u001b[0m\u001b[0m\n\u001b[0;32m    675\u001b[0m         \u001b[1;32mtry\u001b[0m\u001b[1;33m:\u001b[0m\u001b[1;33m\u001b[0m\u001b[0m\n",
      "\u001b[1;32m~\\AppData\\Local\\Continuum\\anaconda3\\lib\\site-packages\\pandas\\core\\frame.py\u001b[0m in \u001b[0;36m__getitem__\u001b[1;34m(self, key)\u001b[0m\n\u001b[0;32m   2137\u001b[0m             \u001b[1;32mreturn\u001b[0m \u001b[0mself\u001b[0m\u001b[1;33m.\u001b[0m\u001b[0m_getitem_multilevel\u001b[0m\u001b[1;33m(\u001b[0m\u001b[0mkey\u001b[0m\u001b[1;33m)\u001b[0m\u001b[1;33m\u001b[0m\u001b[0m\n\u001b[0;32m   2138\u001b[0m         \u001b[1;32melse\u001b[0m\u001b[1;33m:\u001b[0m\u001b[1;33m\u001b[0m\u001b[0m\n\u001b[1;32m-> 2139\u001b[1;33m             \u001b[1;32mreturn\u001b[0m \u001b[0mself\u001b[0m\u001b[1;33m.\u001b[0m\u001b[0m_getitem_column\u001b[0m\u001b[1;33m(\u001b[0m\u001b[0mkey\u001b[0m\u001b[1;33m)\u001b[0m\u001b[1;33m\u001b[0m\u001b[0m\n\u001b[0m\u001b[0;32m   2140\u001b[0m \u001b[1;33m\u001b[0m\u001b[0m\n\u001b[0;32m   2141\u001b[0m     \u001b[1;32mdef\u001b[0m \u001b[0m_getitem_column\u001b[0m\u001b[1;33m(\u001b[0m\u001b[0mself\u001b[0m\u001b[1;33m,\u001b[0m \u001b[0mkey\u001b[0m\u001b[1;33m)\u001b[0m\u001b[1;33m:\u001b[0m\u001b[1;33m\u001b[0m\u001b[0m\n",
      "\u001b[1;32m~\\AppData\\Local\\Continuum\\anaconda3\\lib\\site-packages\\pandas\\core\\frame.py\u001b[0m in \u001b[0;36m_getitem_column\u001b[1;34m(self, key)\u001b[0m\n\u001b[0;32m   2144\u001b[0m         \u001b[1;31m# get column\u001b[0m\u001b[1;33m\u001b[0m\u001b[1;33m\u001b[0m\u001b[0m\n\u001b[0;32m   2145\u001b[0m         \u001b[1;32mif\u001b[0m \u001b[0mself\u001b[0m\u001b[1;33m.\u001b[0m\u001b[0mcolumns\u001b[0m\u001b[1;33m.\u001b[0m\u001b[0mis_unique\u001b[0m\u001b[1;33m:\u001b[0m\u001b[1;33m\u001b[0m\u001b[0m\n\u001b[1;32m-> 2146\u001b[1;33m             \u001b[1;32mreturn\u001b[0m \u001b[0mself\u001b[0m\u001b[1;33m.\u001b[0m\u001b[0m_get_item_cache\u001b[0m\u001b[1;33m(\u001b[0m\u001b[0mkey\u001b[0m\u001b[1;33m)\u001b[0m\u001b[1;33m\u001b[0m\u001b[0m\n\u001b[0m\u001b[0;32m   2147\u001b[0m \u001b[1;33m\u001b[0m\u001b[0m\n\u001b[0;32m   2148\u001b[0m         \u001b[1;31m# duplicate columns & possible reduce dimensionality\u001b[0m\u001b[1;33m\u001b[0m\u001b[1;33m\u001b[0m\u001b[0m\n",
      "\u001b[1;32m~\\AppData\\Local\\Continuum\\anaconda3\\lib\\site-packages\\pandas\\core\\generic.py\u001b[0m in \u001b[0;36m_get_item_cache\u001b[1;34m(self, item)\u001b[0m\n\u001b[0;32m   1840\u001b[0m         \u001b[0mres\u001b[0m \u001b[1;33m=\u001b[0m \u001b[0mcache\u001b[0m\u001b[1;33m.\u001b[0m\u001b[0mget\u001b[0m\u001b[1;33m(\u001b[0m\u001b[0mitem\u001b[0m\u001b[1;33m)\u001b[0m\u001b[1;33m\u001b[0m\u001b[0m\n\u001b[0;32m   1841\u001b[0m         \u001b[1;32mif\u001b[0m \u001b[0mres\u001b[0m \u001b[1;32mis\u001b[0m \u001b[1;32mNone\u001b[0m\u001b[1;33m:\u001b[0m\u001b[1;33m\u001b[0m\u001b[0m\n\u001b[1;32m-> 1842\u001b[1;33m             \u001b[0mvalues\u001b[0m \u001b[1;33m=\u001b[0m \u001b[0mself\u001b[0m\u001b[1;33m.\u001b[0m\u001b[0m_data\u001b[0m\u001b[1;33m.\u001b[0m\u001b[0mget\u001b[0m\u001b[1;33m(\u001b[0m\u001b[0mitem\u001b[0m\u001b[1;33m)\u001b[0m\u001b[1;33m\u001b[0m\u001b[0m\n\u001b[0m\u001b[0;32m   1843\u001b[0m             \u001b[0mres\u001b[0m \u001b[1;33m=\u001b[0m \u001b[0mself\u001b[0m\u001b[1;33m.\u001b[0m\u001b[0m_box_item_values\u001b[0m\u001b[1;33m(\u001b[0m\u001b[0mitem\u001b[0m\u001b[1;33m,\u001b[0m \u001b[0mvalues\u001b[0m\u001b[1;33m)\u001b[0m\u001b[1;33m\u001b[0m\u001b[0m\n\u001b[0;32m   1844\u001b[0m             \u001b[0mcache\u001b[0m\u001b[1;33m[\u001b[0m\u001b[0mitem\u001b[0m\u001b[1;33m]\u001b[0m \u001b[1;33m=\u001b[0m \u001b[0mres\u001b[0m\u001b[1;33m\u001b[0m\u001b[0m\n",
      "\u001b[1;32m~\\AppData\\Local\\Continuum\\anaconda3\\lib\\site-packages\\pandas\\core\\internals.py\u001b[0m in \u001b[0;36mget\u001b[1;34m(self, item, fastpath)\u001b[0m\n\u001b[0;32m   3841\u001b[0m \u001b[1;33m\u001b[0m\u001b[0m\n\u001b[0;32m   3842\u001b[0m             \u001b[1;32mif\u001b[0m \u001b[1;32mnot\u001b[0m \u001b[0misna\u001b[0m\u001b[1;33m(\u001b[0m\u001b[0mitem\u001b[0m\u001b[1;33m)\u001b[0m\u001b[1;33m:\u001b[0m\u001b[1;33m\u001b[0m\u001b[0m\n\u001b[1;32m-> 3843\u001b[1;33m                 \u001b[0mloc\u001b[0m \u001b[1;33m=\u001b[0m \u001b[0mself\u001b[0m\u001b[1;33m.\u001b[0m\u001b[0mitems\u001b[0m\u001b[1;33m.\u001b[0m\u001b[0mget_loc\u001b[0m\u001b[1;33m(\u001b[0m\u001b[0mitem\u001b[0m\u001b[1;33m)\u001b[0m\u001b[1;33m\u001b[0m\u001b[0m\n\u001b[0m\u001b[0;32m   3844\u001b[0m             \u001b[1;32melse\u001b[0m\u001b[1;33m:\u001b[0m\u001b[1;33m\u001b[0m\u001b[0m\n\u001b[0;32m   3845\u001b[0m                 \u001b[0mindexer\u001b[0m \u001b[1;33m=\u001b[0m \u001b[0mnp\u001b[0m\u001b[1;33m.\u001b[0m\u001b[0marange\u001b[0m\u001b[1;33m(\u001b[0m\u001b[0mlen\u001b[0m\u001b[1;33m(\u001b[0m\u001b[0mself\u001b[0m\u001b[1;33m.\u001b[0m\u001b[0mitems\u001b[0m\u001b[1;33m)\u001b[0m\u001b[1;33m)\u001b[0m\u001b[1;33m[\u001b[0m\u001b[0misna\u001b[0m\u001b[1;33m(\u001b[0m\u001b[0mself\u001b[0m\u001b[1;33m.\u001b[0m\u001b[0mitems\u001b[0m\u001b[1;33m)\u001b[0m\u001b[1;33m]\u001b[0m\u001b[1;33m\u001b[0m\u001b[0m\n",
      "\u001b[1;32m~\\AppData\\Local\\Continuum\\anaconda3\\lib\\site-packages\\pandas\\core\\indexes\\base.py\u001b[0m in \u001b[0;36mget_loc\u001b[1;34m(self, key, method, tolerance)\u001b[0m\n\u001b[0;32m   2525\u001b[0m                 \u001b[1;32mreturn\u001b[0m \u001b[0mself\u001b[0m\u001b[1;33m.\u001b[0m\u001b[0m_engine\u001b[0m\u001b[1;33m.\u001b[0m\u001b[0mget_loc\u001b[0m\u001b[1;33m(\u001b[0m\u001b[0mkey\u001b[0m\u001b[1;33m)\u001b[0m\u001b[1;33m\u001b[0m\u001b[0m\n\u001b[0;32m   2526\u001b[0m             \u001b[1;32mexcept\u001b[0m \u001b[0mKeyError\u001b[0m\u001b[1;33m:\u001b[0m\u001b[1;33m\u001b[0m\u001b[0m\n\u001b[1;32m-> 2527\u001b[1;33m                 \u001b[1;32mreturn\u001b[0m \u001b[0mself\u001b[0m\u001b[1;33m.\u001b[0m\u001b[0m_engine\u001b[0m\u001b[1;33m.\u001b[0m\u001b[0mget_loc\u001b[0m\u001b[1;33m(\u001b[0m\u001b[0mself\u001b[0m\u001b[1;33m.\u001b[0m\u001b[0m_maybe_cast_indexer\u001b[0m\u001b[1;33m(\u001b[0m\u001b[0mkey\u001b[0m\u001b[1;33m)\u001b[0m\u001b[1;33m)\u001b[0m\u001b[1;33m\u001b[0m\u001b[0m\n\u001b[0m\u001b[0;32m   2528\u001b[0m \u001b[1;33m\u001b[0m\u001b[0m\n\u001b[0;32m   2529\u001b[0m         \u001b[0mindexer\u001b[0m \u001b[1;33m=\u001b[0m \u001b[0mself\u001b[0m\u001b[1;33m.\u001b[0m\u001b[0mget_indexer\u001b[0m\u001b[1;33m(\u001b[0m\u001b[1;33m[\u001b[0m\u001b[0mkey\u001b[0m\u001b[1;33m]\u001b[0m\u001b[1;33m,\u001b[0m \u001b[0mmethod\u001b[0m\u001b[1;33m=\u001b[0m\u001b[0mmethod\u001b[0m\u001b[1;33m,\u001b[0m \u001b[0mtolerance\u001b[0m\u001b[1;33m=\u001b[0m\u001b[0mtolerance\u001b[0m\u001b[1;33m)\u001b[0m\u001b[1;33m\u001b[0m\u001b[0m\n",
      "\u001b[1;32mpandas/_libs/index.pyx\u001b[0m in \u001b[0;36mpandas._libs.index.IndexEngine.get_loc\u001b[1;34m()\u001b[0m\n",
      "\u001b[1;32mpandas/_libs/index.pyx\u001b[0m in \u001b[0;36mpandas._libs.index.IndexEngine.get_loc\u001b[1;34m()\u001b[0m\n",
      "\u001b[1;32mpandas/_libs/hashtable_class_helper.pxi\u001b[0m in \u001b[0;36mpandas._libs.hashtable.PyObjectHashTable.get_item\u001b[1;34m()\u001b[0m\n",
      "\u001b[1;32mpandas/_libs/hashtable_class_helper.pxi\u001b[0m in \u001b[0;36mpandas._libs.hashtable.PyObjectHashTable.get_item\u001b[1;34m()\u001b[0m\n",
      "\u001b[1;31mKeyError\u001b[0m: 'offense_total'"
     ]
    }
   ],
   "source": [
    "#Considering offense_total as the the response/dependent variable . Offense_total is summation of all 'offense_person',\n",
    "#'offense_property', 'offense_society','offense_other'.\n",
    "X=dataset\n",
    "y=X.pop('offense_total')\n",
    "#y=pd.DataFrame({'offense_total':y.values})\n"
   ]
  },
  {
   "cell_type": "code",
   "execution_count": 335,
   "metadata": {},
   "outputs": [],
   "source": [
    "#y\n",
    "#y=pd.DataFrame({'offense_total':y.values})"
   ]
  },
  {
   "cell_type": "code",
   "execution_count": 336,
   "metadata": {},
   "outputs": [
    {
     "data": {
      "text/html": [
       "<div>\n",
       "<style scoped>\n",
       "    .dataframe tbody tr th:only-of-type {\n",
       "        vertical-align: middle;\n",
       "    }\n",
       "\n",
       "    .dataframe tbody tr th {\n",
       "        vertical-align: top;\n",
       "    }\n",
       "\n",
       "    .dataframe thead th {\n",
       "        text-align: right;\n",
       "    }\n",
       "</style>\n",
       "<table border=\"1\" class=\"dataframe\">\n",
       "  <thead>\n",
       "    <tr style=\"text-align: right;\">\n",
       "      <th></th>\n",
       "      <th>Features/Predictors</th>\n",
       "    </tr>\n",
       "  </thead>\n",
       "  <tbody>\n",
       "    <tr>\n",
       "      <th>0</th>\n",
       "      <td>Unnamed: 0</td>\n",
       "    </tr>\n",
       "    <tr>\n",
       "      <th>1</th>\n",
       "      <td>from_date</td>\n",
       "    </tr>\n",
       "    <tr>\n",
       "      <th>2</th>\n",
       "      <td>zip_code</td>\n",
       "    </tr>\n",
       "    <tr>\n",
       "      <th>3</th>\n",
       "      <td>offense_society</td>\n",
       "    </tr>\n",
       "    <tr>\n",
       "      <th>4</th>\n",
       "      <td>offense_person</td>\n",
       "    </tr>\n",
       "    <tr>\n",
       "      <th>5</th>\n",
       "      <td>offense_property</td>\n",
       "    </tr>\n",
       "    <tr>\n",
       "      <th>6</th>\n",
       "      <td>offense_other</td>\n",
       "    </tr>\n",
       "    <tr>\n",
       "      <th>7</th>\n",
       "      <td>dv</td>\n",
       "    </tr>\n",
       "    <tr>\n",
       "      <th>8</th>\n",
       "      <td>firearm</td>\n",
       "    </tr>\n",
       "    <tr>\n",
       "      <th>9</th>\n",
       "      <td>year</td>\n",
       "    </tr>\n",
       "    <tr>\n",
       "      <th>10</th>\n",
       "      <td>month</td>\n",
       "    </tr>\n",
       "    <tr>\n",
       "      <th>11</th>\n",
       "      <td>quarter</td>\n",
       "    </tr>\n",
       "    <tr>\n",
       "      <th>12</th>\n",
       "      <td>zip</td>\n",
       "    </tr>\n",
       "    <tr>\n",
       "      <th>13</th>\n",
       "      <td>city</td>\n",
       "    </tr>\n",
       "    <tr>\n",
       "      <th>14</th>\n",
       "      <td>population</td>\n",
       "    </tr>\n",
       "    <tr>\n",
       "      <th>15</th>\n",
       "      <td>unemployment_rate</td>\n",
       "    </tr>\n",
       "    <tr>\n",
       "      <th>16</th>\n",
       "      <td>house_price_index</td>\n",
       "    </tr>\n",
       "    <tr>\n",
       "      <th>17</th>\n",
       "      <td>per_cap_income</td>\n",
       "    </tr>\n",
       "    <tr>\n",
       "      <th>18</th>\n",
       "      <td>new_priv_housing</td>\n",
       "    </tr>\n",
       "  </tbody>\n",
       "</table>\n",
       "</div>"
      ],
      "text/plain": [
       "   Features/Predictors\n",
       "0           Unnamed: 0\n",
       "1            from_date\n",
       "2             zip_code\n",
       "3      offense_society\n",
       "4       offense_person\n",
       "5     offense_property\n",
       "6        offense_other\n",
       "7                   dv\n",
       "8              firearm\n",
       "9                 year\n",
       "10               month\n",
       "11             quarter\n",
       "12                 zip\n",
       "13                city\n",
       "14          population\n",
       "15   unemployment_rate\n",
       "16   house_price_index\n",
       "17      per_cap_income\n",
       "18    new_priv_housing"
      ]
     },
     "execution_count": 336,
     "metadata": {},
     "output_type": "execute_result"
    }
   ],
   "source": [
    "X.columns\n",
    "Features= pd.DataFrame(X.columns, columns=['Features/Predictors']) \n",
    "Features"
   ]
  },
  {
   "cell_type": "markdown",
   "metadata": {},
   "source": [
    "# Building the optimal model using Backward Elimination"
   ]
  },
  {
   "cell_type": "code",
   "execution_count": 393,
   "metadata": {},
   "outputs": [
    {
     "data": {
      "text/html": [
       "<table class=\"simpletable\">\n",
       "<caption>OLS Regression Results</caption>\n",
       "<tr>\n",
       "  <th>Dep. Variable:</th>      <td>offense_total</td>  <th>  R-squared:         </th> <td>   0.915</td> \n",
       "</tr>\n",
       "<tr>\n",
       "  <th>Model:</th>                   <td>OLS</td>       <th>  Adj. R-squared:    </th> <td>   0.915</td> \n",
       "</tr>\n",
       "<tr>\n",
       "  <th>Method:</th>             <td>Least Squares</td>  <th>  F-statistic:       </th> <td>   5193.</td> \n",
       "</tr>\n",
       "<tr>\n",
       "  <th>Date:</th>             <td>Sat, 28 Jul 2018</td> <th>  Prob (F-statistic):</th>  <td>  0.00</td>  \n",
       "</tr>\n",
       "<tr>\n",
       "  <th>Time:</th>                 <td>02:46:30</td>     <th>  Log-Likelihood:    </th> <td> -22453.</td> \n",
       "</tr>\n",
       "<tr>\n",
       "  <th>No. Observations:</th>      <td>  4363</td>      <th>  AIC:               </th> <td>4.492e+04</td>\n",
       "</tr>\n",
       "<tr>\n",
       "  <th>Df Residuals:</th>          <td>  4354</td>      <th>  BIC:               </th> <td>4.498e+04</td>\n",
       "</tr>\n",
       "<tr>\n",
       "  <th>Df Model:</th>              <td>     9</td>      <th>                     </th>     <td> </td>    \n",
       "</tr>\n",
       "<tr>\n",
       "  <th>Covariance Type:</th>      <td>nonrobust</td>    <th>                     </th>     <td> </td>    \n",
       "</tr>\n",
       "</table>\n",
       "<table class=\"simpletable\">\n",
       "<tr>\n",
       "          <td></td>             <th>coef</th>     <th>std err</th>      <th>t</th>      <th>P>|t|</th>  <th>[0.025</th>    <th>0.975]</th>  \n",
       "</tr>\n",
       "<tr>\n",
       "  <th>from_date</th>         <td> -1.22e-05</td> <td> 1.22e-05</td> <td>   -0.999</td> <td> 0.318</td> <td>-3.61e-05</td> <td> 1.17e-05</td>\n",
       "</tr>\n",
       "<tr>\n",
       "  <th>zip_code</th>          <td>   -0.1718</td> <td>    0.020</td> <td>   -8.724</td> <td> 0.000</td> <td>   -0.210</td> <td>   -0.133</td>\n",
       "</tr>\n",
       "<tr>\n",
       "  <th>dv</th>                <td>    4.6741</td> <td>    0.087</td> <td>   53.592</td> <td> 0.000</td> <td>    4.503</td> <td>    4.845</td>\n",
       "</tr>\n",
       "<tr>\n",
       "  <th>firearm</th>           <td>    4.4774</td> <td>    0.100</td> <td>   44.723</td> <td> 0.000</td> <td>    4.281</td> <td>    4.674</td>\n",
       "</tr>\n",
       "<tr>\n",
       "  <th>year</th>              <td>    5.6455</td> <td>    0.639</td> <td>    8.839</td> <td> 0.000</td> <td>    4.393</td> <td>    6.898</td>\n",
       "</tr>\n",
       "<tr>\n",
       "  <th>month</th>             <td>    1.5678</td> <td>    0.281</td> <td>    5.580</td> <td> 0.000</td> <td>    1.017</td> <td>    2.119</td>\n",
       "</tr>\n",
       "<tr>\n",
       "  <th>population</th>        <td>  9.36e-05</td> <td> 6.34e-06</td> <td>   14.774</td> <td> 0.000</td> <td> 8.12e-05</td> <td>    0.000</td>\n",
       "</tr>\n",
       "<tr>\n",
       "  <th>house_price_index</th> <td>   -0.7009</td> <td>    0.097</td> <td>   -7.228</td> <td> 0.000</td> <td>   -0.891</td> <td>   -0.511</td>\n",
       "</tr>\n",
       "<tr>\n",
       "  <th>per_cap_income</th>    <td>   -0.0056</td> <td>    0.001</td> <td>  -10.835</td> <td> 0.000</td> <td>   -0.007</td> <td>   -0.005</td>\n",
       "</tr>\n",
       "</table>\n",
       "<table class=\"simpletable\">\n",
       "<tr>\n",
       "  <th>Omnibus:</th>       <td>812.576</td> <th>  Durbin-Watson:     </th> <td>   1.604</td>\n",
       "</tr>\n",
       "<tr>\n",
       "  <th>Prob(Omnibus):</th> <td> 0.000</td>  <th>  Jarque-Bera (JB):  </th> <td>3266.728</td>\n",
       "</tr>\n",
       "<tr>\n",
       "  <th>Skew:</th>          <td> 0.871</td>  <th>  Prob(JB):          </th> <td>    0.00</td>\n",
       "</tr>\n",
       "<tr>\n",
       "  <th>Kurtosis:</th>      <td> 6.864</td>  <th>  Cond. No.          </th> <td>4.68e+05</td>\n",
       "</tr>\n",
       "</table>"
      ],
      "text/plain": [
       "<class 'statsmodels.iolib.summary.Summary'>\n",
       "\"\"\"\n",
       "                            OLS Regression Results                            \n",
       "==============================================================================\n",
       "Dep. Variable:          offense_total   R-squared:                       0.915\n",
       "Model:                            OLS   Adj. R-squared:                  0.915\n",
       "Method:                 Least Squares   F-statistic:                     5193.\n",
       "Date:                Sat, 28 Jul 2018   Prob (F-statistic):               0.00\n",
       "Time:                        02:46:30   Log-Likelihood:                -22453.\n",
       "No. Observations:                4363   AIC:                         4.492e+04\n",
       "Df Residuals:                    4354   BIC:                         4.498e+04\n",
       "Df Model:                           9                                         \n",
       "Covariance Type:            nonrobust                                         \n",
       "=====================================================================================\n",
       "                        coef    std err          t      P>|t|      [0.025      0.975]\n",
       "-------------------------------------------------------------------------------------\n",
       "from_date          -1.22e-05   1.22e-05     -0.999      0.318   -3.61e-05    1.17e-05\n",
       "zip_code             -0.1718      0.020     -8.724      0.000      -0.210      -0.133\n",
       "dv                    4.6741      0.087     53.592      0.000       4.503       4.845\n",
       "firearm               4.4774      0.100     44.723      0.000       4.281       4.674\n",
       "year                  5.6455      0.639      8.839      0.000       4.393       6.898\n",
       "month                 1.5678      0.281      5.580      0.000       1.017       2.119\n",
       "population          9.36e-05   6.34e-06     14.774      0.000    8.12e-05       0.000\n",
       "house_price_index    -0.7009      0.097     -7.228      0.000      -0.891      -0.511\n",
       "per_cap_income       -0.0056      0.001    -10.835      0.000      -0.007      -0.005\n",
       "==============================================================================\n",
       "Omnibus:                      812.576   Durbin-Watson:                   1.604\n",
       "Prob(Omnibus):                  0.000   Jarque-Bera (JB):             3266.728\n",
       "Skew:                           0.871   Prob(JB):                         0.00\n",
       "Kurtosis:                       6.864   Cond. No.                     4.68e+05\n",
       "==============================================================================\n",
       "\n",
       "Warnings:\n",
       "[1] Standard Errors assume that the covariance matrix of the errors is correctly specified.\n",
       "[2] The condition number is large, 4.68e+05. This might indicate that there are\n",
       "strong multicollinearity or other numerical problems.\n",
       "\"\"\""
      ]
     },
     "execution_count": 393,
     "metadata": {},
     "output_type": "execute_result"
    }
   ],
   "source": [
    "#Summary of the features along with important metrices.\n",
    "#Drop few features from input dataset\n",
    "##A predictor that has a low p-value is likely to be a meaningful addition to the model because \n",
    "#changes in the predictor's value are related to changes in the response variable.\n",
    "#Based on the result set we can reject the #unemployment_rate and #new_priv_housing\n",
    "#X_opt = X.iloc[:, [2,7,8,9,11,14,15,16,17]],\n",
    "X_opt = X.iloc[:, [1,2,7,8,9,10,14,16,17]] #'zip_code', 'dv', 'firearm', 'year','population',house_price_index,'per_cap_income',,\n",
    "regressor_OLS = sm.OLS(y, X_opt).fit()\n",
    "regressor_OLS.summary()"
   ]
  },
  {
   "cell_type": "markdown",
   "metadata": {},
   "source": [
    "# Linear Regression"
   ]
  },
  {
   "cell_type": "code",
   "execution_count": 394,
   "metadata": {},
   "outputs": [],
   "source": [
    "#Import train_test_split & LinearRegression Model\n",
    "from sklearn.model_selection import train_test_split\n",
    "from sklearn.linear_model import LinearRegression"
   ]
  },
  {
   "cell_type": "code",
   "execution_count": 395,
   "metadata": {},
   "outputs": [],
   "source": [
    "#Train test split\n",
    "lr_model = LinearRegression()\n",
    "X_train, X_test, y_train, y_test = train_test_split(X_opt, y, test_size=.2, random_state=0)"
   ]
  },
  {
   "cell_type": "code",
   "execution_count": 396,
   "metadata": {},
   "outputs": [],
   "source": [
    "#y_test"
   ]
  },
  {
   "cell_type": "code",
   "execution_count": 397,
   "metadata": {},
   "outputs": [
    {
     "data": {
      "text/plain": [
       "27392.329552134575"
      ]
     },
     "execution_count": 397,
     "metadata": {},
     "output_type": "execute_result"
    }
   ],
   "source": [
    "model=lr_model.fit(X_train, y_train)\n",
    "#lr_model.coef_ ,\n",
    "lr_model.intercept_"
   ]
  },
  {
   "cell_type": "code",
   "execution_count": 398,
   "metadata": {},
   "outputs": [
    {
     "data": {
      "text/html": [
       "<div>\n",
       "<style scoped>\n",
       "    .dataframe tbody tr th:only-of-type {\n",
       "        vertical-align: middle;\n",
       "    }\n",
       "\n",
       "    .dataframe tbody tr th {\n",
       "        vertical-align: top;\n",
       "    }\n",
       "\n",
       "    .dataframe thead th {\n",
       "        text-align: right;\n",
       "    }\n",
       "</style>\n",
       "<table border=\"1\" class=\"dataframe\">\n",
       "  <thead>\n",
       "    <tr style=\"text-align: right;\">\n",
       "      <th></th>\n",
       "      <th>Coefficient</th>\n",
       "    </tr>\n",
       "  </thead>\n",
       "  <tbody>\n",
       "    <tr>\n",
       "      <th>from_date</th>\n",
       "      <td>-0.000015</td>\n",
       "    </tr>\n",
       "    <tr>\n",
       "      <th>zip_code</th>\n",
       "      <td>-0.189877</td>\n",
       "    </tr>\n",
       "    <tr>\n",
       "      <th>dv</th>\n",
       "      <td>4.658942</td>\n",
       "    </tr>\n",
       "    <tr>\n",
       "      <th>firearm</th>\n",
       "      <td>4.378644</td>\n",
       "    </tr>\n",
       "    <tr>\n",
       "      <th>year</th>\n",
       "      <td>-7.631012</td>\n",
       "    </tr>\n",
       "    <tr>\n",
       "      <th>month</th>\n",
       "      <td>1.213200</td>\n",
       "    </tr>\n",
       "    <tr>\n",
       "      <th>population</th>\n",
       "      <td>0.000096</td>\n",
       "    </tr>\n",
       "    <tr>\n",
       "      <th>house_price_index</th>\n",
       "      <td>0.060034</td>\n",
       "    </tr>\n",
       "    <tr>\n",
       "      <th>per_cap_income</th>\n",
       "      <td>0.002504</td>\n",
       "    </tr>\n",
       "  </tbody>\n",
       "</table>\n",
       "</div>"
      ],
      "text/plain": [
       "                   Coefficient\n",
       "from_date            -0.000015\n",
       "zip_code             -0.189877\n",
       "dv                    4.658942\n",
       "firearm               4.378644\n",
       "year                 -7.631012\n",
       "month                 1.213200\n",
       "population            0.000096\n",
       "house_price_index     0.060034\n",
       "per_cap_income        0.002504"
      ]
     },
     "execution_count": 398,
     "metadata": {},
     "output_type": "execute_result"
    }
   ],
   "source": [
    "#Displaying Coefficients for each input variable\n",
    "coeff_df= pd.DataFrame(lr_model.coef_,X_opt.columns, columns=['Coefficient'])  \n",
    "coeff_df"
   ]
  },
  {
   "cell_type": "code",
   "execution_count": 399,
   "metadata": {},
   "outputs": [
    {
     "data": {
      "text/html": [
       "<div>\n",
       "<style scoped>\n",
       "    .dataframe tbody tr th:only-of-type {\n",
       "        vertical-align: middle;\n",
       "    }\n",
       "\n",
       "    .dataframe tbody tr th {\n",
       "        vertical-align: top;\n",
       "    }\n",
       "\n",
       "    .dataframe thead th {\n",
       "        text-align: right;\n",
       "    }\n",
       "</style>\n",
       "<table border=\"1\" class=\"dataframe\">\n",
       "  <thead>\n",
       "    <tr style=\"text-align: right;\">\n",
       "      <th></th>\n",
       "      <th>Actual</th>\n",
       "      <th>Predicted</th>\n",
       "    </tr>\n",
       "  </thead>\n",
       "  <tbody>\n",
       "    <tr>\n",
       "      <th>1503</th>\n",
       "      <td>91</td>\n",
       "      <td>103.311499</td>\n",
       "    </tr>\n",
       "    <tr>\n",
       "      <th>1569</th>\n",
       "      <td>4</td>\n",
       "      <td>33.094432</td>\n",
       "    </tr>\n",
       "    <tr>\n",
       "      <th>3883</th>\n",
       "      <td>6</td>\n",
       "      <td>24.789577</td>\n",
       "    </tr>\n",
       "    <tr>\n",
       "      <th>3931</th>\n",
       "      <td>258</td>\n",
       "      <td>278.648973</td>\n",
       "    </tr>\n",
       "    <tr>\n",
       "      <th>3223</th>\n",
       "      <td>61</td>\n",
       "      <td>28.257809</td>\n",
       "    </tr>\n",
       "    <tr>\n",
       "      <th>1326</th>\n",
       "      <td>121</td>\n",
       "      <td>61.822486</td>\n",
       "    </tr>\n",
       "    <tr>\n",
       "      <th>4358</th>\n",
       "      <td>39</td>\n",
       "      <td>35.656192</td>\n",
       "    </tr>\n",
       "    <tr>\n",
       "      <th>4004</th>\n",
       "      <td>1</td>\n",
       "      <td>7.667759</td>\n",
       "    </tr>\n",
       "    <tr>\n",
       "      <th>3582</th>\n",
       "      <td>10</td>\n",
       "      <td>29.611524</td>\n",
       "    </tr>\n",
       "    <tr>\n",
       "      <th>3876</th>\n",
       "      <td>173</td>\n",
       "      <td>145.198694</td>\n",
       "    </tr>\n",
       "  </tbody>\n",
       "</table>\n",
       "</div>"
      ],
      "text/plain": [
       "      Actual   Predicted\n",
       "1503      91  103.311499\n",
       "1569       4   33.094432\n",
       "3883       6   24.789577\n",
       "3931     258  278.648973\n",
       "3223      61   28.257809\n",
       "1326     121   61.822486\n",
       "4358      39   35.656192\n",
       "4004       1    7.667759\n",
       "3582      10   29.611524\n",
       "3876     173  145.198694"
      ]
     },
     "execution_count": 399,
     "metadata": {},
     "output_type": "execute_result"
    }
   ],
   "source": [
    "#Actual VS Predicted\n",
    "y_pred = lr_model.predict(X_test)  \n",
    "df = pd.DataFrame({'Actual': y_test, 'Predicted': y_pred})\n",
    "df.head(10)"
   ]
  },
  {
   "cell_type": "code",
   "execution_count": 400,
   "metadata": {},
   "outputs": [
    {
     "name": "stdout",
     "output_type": "stream",
     "text": [
      "Mean Absolute Error: 29.316765785284808\n",
      "Mean Squared Error: 1664.1192282368386\n",
      "Root Mean Squared Error: 40.793617493878116\n",
      "Root Mean Squared Error: 1.4489694266853979\n"
     ]
    }
   ],
   "source": [
    "#Metrics\n",
    "from sklearn import metrics  \n",
    "print('Mean Absolute Error:', metrics.mean_absolute_error(y_test, y_pred))  \n",
    "print('Mean Squared Error:', metrics.mean_squared_error(y_test, y_pred))  \n",
    "print('Root Mean Squared Error:', np.sqrt(metrics.mean_squared_error(y_test, y_pred))  )\n",
    "print('Root Mean Squared Error:', (metrics.mean_squared_error(y_test, y_pred)**(0.05))  )"
   ]
  },
  {
   "cell_type": "code",
   "execution_count": 401,
   "metadata": {},
   "outputs": [
    {
     "name": "stdout",
     "output_type": "stream",
     "text": [
      "R^2:  84.27323151129018 %\n"
     ]
    }
   ],
   "source": [
    "from sklearn.metrics import r2_score\n",
    "print(\"R^2: \", r2_score(y_test, y_pred)*100,'%')\n"
   ]
  },
  {
   "cell_type": "code",
   "execution_count": 402,
   "metadata": {},
   "outputs": [
    {
     "data": {
      "image/png": "[encoded data removed]",
      "text/plain": [
       "<matplotlib.figure.Figure at 0x1abeae9a198>"
      ]
     },
     "metadata": {},
     "output_type": "display_data"
    },
    {
     "name": "stdout",
     "output_type": "stream",
     "text": [
      "The more linear the graph the better we did at predicting y\n"
     ]
    }
   ],
   "source": [
    "#Actual VS Predicted\n",
    "plt.scatter( y_test,y_pred)\n",
    "plt.xlabel('Actual Values')\n",
    "plt.ylabel('Predicted Values')\n",
    "plt.show()\n",
    "print(\"The more linear the graph the better we did at predicting y\")"
   ]
  },
  {
   "cell_type": "markdown",
   "metadata": {},
   "source": [
    "# Cross Validation on training Set"
   ]
  },
  {
   "cell_type": "code",
   "execution_count": 403,
   "metadata": {},
   "outputs": [],
   "source": [
    "#CROSS VALIDATION\n",
    "#y_CV=pd.DataFrame({'offense_total':y.values})\n",
    "#X=dataset.drop('offense_total',axis=1)\n",
    "X_CV = (X_train.iloc[:,0:].values).astype('float32')\n",
    "y_CV=np.array(y_train)"
   ]
  },
  {
   "cell_type": "code",
   "execution_count": 404,
   "metadata": {},
   "outputs": [
    {
     "name": "stdout",
     "output_type": "stream",
     "text": [
      "3490\n"
     ]
    },
    {
     "data": {
      "text/plain": [
       "numpy.ndarray"
      ]
     },
     "execution_count": 404,
     "metadata": {},
     "output_type": "execute_result"
    }
   ],
   "source": [
    "print(len(y_CV))\n",
    "type(y_CV)"
   ]
  },
  {
   "cell_type": "code",
   "execution_count": 405,
   "metadata": {},
   "outputs": [
    {
     "name": "stdout",
     "output_type": "stream",
     "text": [
      "KFold(n_splits=5, random_state=None, shuffle=False)\n",
      "3490\n",
      "3490\n"
     ]
    }
   ],
   "source": [
    "from sklearn.model_selection import KFold # import KFold\n",
    "X_CV=X_CV\n",
    "y_CV = y_CV\n",
    "kf = KFold(n_splits=5)#define the split - into 2 folds \n",
    "kf.get_n_splits(X_CV,y_CV) # returns the number of splitting iterations in the cross-validator\n",
    "print(kf) \n",
    "KFold(n_splits=5, random_state=None, shuffle=False)\n",
    "print(len(X_CV))\n",
    "print(len(y_CV))"
   ]
  },
  {
   "cell_type": "code",
   "execution_count": 406,
   "metadata": {},
   "outputs": [],
   "source": [
    "#X_CV"
   ]
  },
  {
   "cell_type": "code",
   "execution_count": 407,
   "metadata": {},
   "outputs": [
    {
     "name": "stdout",
     "output_type": "stream",
     "text": [
      "TRAIN: [ 698  699  700 ... 3487 3488 3489] TEST: [  0   1   2   3   4   5   6   7   8   9  10  11  12  13  14  15  16  17\n",
      "  18  19  20  21  22  23  24  25  26  27  28  29  30  31  32  33  34  35\n",
      "  36  37  38  39  40  41  42  43  44  45  46  47  48  49  50  51  52  53\n",
      "  54  55  56  57  58  59  60  61  62  63  64  65  66  67  68  69  70  71\n",
      "  72  73  74  75  76  77  78  79  80  81  82  83  84  85  86  87  88  89\n",
      "  90  91  92  93  94  95  96  97  98  99 100 101 102 103 104 105 106 107\n",
      " 108 109 110 111 112 113 114 115 116 117 118 119 120 121 122 123 124 125\n",
      " 126 127 128 129 130 131 132 133 134 135 136 137 138 139 140 141 142 143\n",
      " 144 145 146 147 148 149 150 151 152 153 154 155 156 157 158 159 160 161\n",
      " 162 163 164 165 166 167 168 169 170 171 172 173 174 175 176 177 178 179\n",
      " 180 181 182 183 184 185 186 187 188 189 190 191 192 193 194 195 196 197\n",
      " 198 199 200 201 202 203 204 205 206 207 208 209 210 211 212 213 214 215\n",
      " 216 217 218 219 220 221 222 223 224 225 226 227 228 229 230 231 232 233\n",
      " 234 235 236 237 238 239 240 241 242 243 244 245 246 247 248 249 250 251\n",
      " 252 253 254 255 256 257 258 259 260 261 262 263 264 265 266 267 268 269\n",
      " 270 271 272 273 274 275 276 277 278 279 280 281 282 283 284 285 286 287\n",
      " 288 289 290 291 292 293 294 295 296 297 298 299 300 301 302 303 304 305\n",
      " 306 307 308 309 310 311 312 313 314 315 316 317 318 319 320 321 322 323\n",
      " 324 325 326 327 328 329 330 331 332 333 334 335 336 337 338 339 340 341\n",
      " 342 343 344 345 346 347 348 349 350 351 352 353 354 355 356 357 358 359\n",
      " 360 361 362 363 364 365 366 367 368 369 370 371 372 373 374 375 376 377\n",
      " 378 379 380 381 382 383 384 385 386 387 388 389 390 391 392 393 394 395\n",
      " 396 397 398 399 400 401 402 403 404 405 406 407 408 409 410 411 412 413\n",
      " 414 415 416 417 418 419 420 421 422 423 424 425 426 427 428 429 430 431\n",
      " 432 433 434 435 436 437 438 439 440 441 442 443 444 445 446 447 448 449\n",
      " 450 451 452 453 454 455 456 457 458 459 460 461 462 463 464 465 466 467\n",
      " 468 469 470 471 472 473 474 475 476 477 478 479 480 481 482 483 484 485\n",
      " 486 487 488 489 490 491 492 493 494 495 496 497 498 499 500 501 502 503\n",
      " 504 505 506 507 508 509 510 511 512 513 514 515 516 517 518 519 520 521\n",
      " 522 523 524 525 526 527 528 529 530 531 532 533 534 535 536 537 538 539\n",
      " 540 541 542 543 544 545 546 547 548 549 550 551 552 553 554 555 556 557\n",
      " 558 559 560 561 562 563 564 565 566 567 568 569 570 571 572 573 574 575\n",
      " 576 577 578 579 580 581 582 583 584 585 586 587 588 589 590 591 592 593\n",
      " 594 595 596 597 598 599 600 601 602 603 604 605 606 607 608 609 610 611\n",
      " 612 613 614 615 616 617 618 619 620 621 622 623 624 625 626 627 628 629\n",
      " 630 631 632 633 634 635 636 637 638 639 640 641 642 643 644 645 646 647\n",
      " 648 649 650 651 652 653 654 655 656 657 658 659 660 661 662 663 664 665\n",
      " 666 667 668 669 670 671 672 673 674 675 676 677 678 679 680 681 682 683\n",
      " 684 685 686 687 688 689 690 691 692 693 694 695 696 697]\n",
      "TRAIN: [   0    1    2 ... 3487 3488 3489] TEST: [ 698  699  700  701  702  703  704  705  706  707  708  709  710  711\n",
      "  712  713  714  715  716  717  718  719  720  721  722  723  724  725\n",
      "  726  727  728  729  730  731  732  733  734  735  736  737  738  739\n",
      "  740  741  742  743  744  745  746  747  748  749  750  751  752  753\n",
      "  754  755  756  757  758  759  760  761  762  763  764  765  766  767\n",
      "  768  769  770  771  772  773  774  775  776  777  778  779  780  781\n",
      "  782  783  784  785  786  787  788  789  790  791  792  793  794  795\n",
      "  796  797  798  799  800  801  802  803  804  805  806  807  808  809\n",
      "  810  811  812  813  814  815  816  817  818  819  820  821  822  823\n",
      "  824  825  826  827  828  829  830  831  832  833  834  835  836  837\n",
      "  838  839  840  841  842  843  844  845  846  847  848  849  850  851\n",
      "  852  853  854  855  856  857  858  859  860  861  862  863  864  865\n",
      "  866  867  868  869  870  871  872  873  874  875  876  877  878  879\n",
      "  880  881  882  883  884  885  886  887  888  889  890  891  892  893\n",
      "  894  895  896  897  898  899  900  901  902  903  904  905  906  907\n",
      "  908  909  910  911  912  913  914  915  916  917  918  919  920  921\n",
      "  922  923  924  925  926  927  928  929  930  931  932  933  934  935\n",
      "  936  937  938  939  940  941  942  943  944  945  946  947  948  949\n",
      "  950  951  952  953  954  955  956  957  958  959  960  961  962  963\n",
      "  964  965  966  967  968  969  970  971  972  973  974  975  976  977\n",
      "  978  979  980  981  982  983  984  985  986  987  988  989  990  991\n",
      "  992  993  994  995  996  997  998  999 1000 1001 1002 1003 1004 1005\n",
      " 1006 1007 1008 1009 1010 1011 1012 1013 1014 1015 1016 1017 1018 1019\n",
      " 1020 1021 1022 1023 1024 1025 1026 1027 1028 1029 1030 1031 1032 1033\n",
      " 1034 1035 1036 1037 1038 1039 1040 1041 1042 1043 1044 1045 1046 1047\n",
      " 1048 1049 1050 1051 1052 1053 1054 1055 1056 1057 1058 1059 1060 1061\n",
      " 1062 1063 1064 1065 1066 1067 1068 1069 1070 1071 1072 1073 1074 1075\n",
      " 1076 1077 1078 1079 1080 1081 1082 1083 1084 1085 1086 1087 1088 1089\n",
      " 1090 1091 1092 1093 1094 1095 1096 1097 1098 1099 1100 1101 1102 1103\n",
      " 1104 1105 1106 1107 1108 1109 1110 1111 1112 1113 1114 1115 1116 1117\n",
      " 1118 1119 1120 1121 1122 1123 1124 1125 1126 1127 1128 1129 1130 1131\n",
      " 1132 1133 1134 1135 1136 1137 1138 1139 1140 1141 1142 1143 1144 1145\n",
      " 1146 1147 1148 1149 1150 1151 1152 1153 1154 1155 1156 1157 1158 1159\n",
      " 1160 1161 1162 1163 1164 1165 1166 1167 1168 1169 1170 1171 1172 1173\n",
      " 1174 1175 1176 1177 1178 1179 1180 1181 1182 1183 1184 1185 1186 1187\n",
      " 1188 1189 1190 1191 1192 1193 1194 1195 1196 1197 1198 1199 1200 1201\n",
      " 1202 1203 1204 1205 1206 1207 1208 1209 1210 1211 1212 1213 1214 1215\n",
      " 1216 1217 1218 1219 1220 1221 1222 1223 1224 1225 1226 1227 1228 1229\n",
      " 1230 1231 1232 1233 1234 1235 1236 1237 1238 1239 1240 1241 1242 1243\n",
      " 1244 1245 1246 1247 1248 1249 1250 1251 1252 1253 1254 1255 1256 1257\n",
      " 1258 1259 1260 1261 1262 1263 1264 1265 1266 1267 1268 1269 1270 1271\n",
      " 1272 1273 1274 1275 1276 1277 1278 1279 1280 1281 1282 1283 1284 1285\n",
      " 1286 1287 1288 1289 1290 1291 1292 1293 1294 1295 1296 1297 1298 1299\n",
      " 1300 1301 1302 1303 1304 1305 1306 1307 1308 1309 1310 1311 1312 1313\n",
      " 1314 1315 1316 1317 1318 1319 1320 1321 1322 1323 1324 1325 1326 1327\n",
      " 1328 1329 1330 1331 1332 1333 1334 1335 1336 1337 1338 1339 1340 1341\n",
      " 1342 1343 1344 1345 1346 1347 1348 1349 1350 1351 1352 1353 1354 1355\n",
      " 1356 1357 1358 1359 1360 1361 1362 1363 1364 1365 1366 1367 1368 1369\n",
      " 1370 1371 1372 1373 1374 1375 1376 1377 1378 1379 1380 1381 1382 1383\n",
      " 1384 1385 1386 1387 1388 1389 1390 1391 1392 1393 1394 1395]\n",
      "TRAIN: [   0    1    2 ... 3487 3488 3489] TEST: [1396 1397 1398 1399 1400 1401 1402 1403 1404 1405 1406 1407 1408 1409\n",
      " 1410 1411 1412 1413 1414 1415 1416 1417 1418 1419 1420 1421 1422 1423\n",
      " 1424 1425 1426 1427 1428 1429 1430 1431 1432 1433 1434 1435 1436 1437\n",
      " 1438 1439 1440 1441 1442 1443 1444 1445 1446 1447 1448 1449 1450 1451\n",
      " 1452 1453 1454 1455 1456 1457 1458 1459 1460 1461 1462 1463 1464 1465\n",
      " 1466 1467 1468 1469 1470 1471 1472 1473 1474 1475 1476 1477 1478 1479\n",
      " 1480 1481 1482 1483 1484 1485 1486 1487 1488 1489 1490 1491 1492 1493\n",
      " 1494 1495 1496 1497 1498 1499 1500 1501 1502 1503 1504 1505 1506 1507\n",
      " 1508 1509 1510 1511 1512 1513 1514 1515 1516 1517 1518 1519 1520 1521\n",
      " 1522 1523 1524 1525 1526 1527 1528 1529 1530 1531 1532 1533 1534 1535\n",
      " 1536 1537 1538 1539 1540 1541 1542 1543 1544 1545 1546 1547 1548 1549\n",
      " 1550 1551 1552 1553 1554 1555 1556 1557 1558 1559 1560 1561 1562 1563\n",
      " 1564 1565 1566 1567 1568 1569 1570 1571 1572 1573 1574 1575 1576 1577\n",
      " 1578 1579 1580 1581 1582 1583 1584 1585 1586 1587 1588 1589 1590 1591\n",
      " 1592 1593 1594 1595 1596 1597 1598 1599 1600 1601 1602 1603 1604 1605\n",
      " 1606 1607 1608 1609 1610 1611 1612 1613 1614 1615 1616 1617 1618 1619\n",
      " 1620 1621 1622 1623 1624 1625 1626 1627 1628 1629 1630 1631 1632 1633\n",
      " 1634 1635 1636 1637 1638 1639 1640 1641 1642 1643 1644 1645 1646 1647\n",
      " 1648 1649 1650 1651 1652 1653 1654 1655 1656 1657 1658 1659 1660 1661\n",
      " 1662 1663 1664 1665 1666 1667 1668 1669 1670 1671 1672 1673 1674 1675\n",
      " 1676 1677 1678 1679 1680 1681 1682 1683 1684 1685 1686 1687 1688 1689\n",
      " 1690 1691 1692 1693 1694 1695 1696 1697 1698 1699 1700 1701 1702 1703\n",
      " 1704 1705 1706 1707 1708 1709 1710 1711 1712 1713 1714 1715 1716 1717\n",
      " 1718 1719 1720 1721 1722 1723 1724 1725 1726 1727 1728 1729 1730 1731\n",
      " 1732 1733 1734 1735 1736 1737 1738 1739 1740 1741 1742 1743 1744 1745\n",
      " 1746 1747 1748 1749 1750 1751 1752 1753 1754 1755 1756 1757 1758 1759\n",
      " 1760 1761 1762 1763 1764 1765 1766 1767 1768 1769 1770 1771 1772 1773\n",
      " 1774 1775 1776 1777 1778 1779 1780 1781 1782 1783 1784 1785 1786 1787\n",
      " 1788 1789 1790 1791 1792 1793 1794 1795 1796 1797 1798 1799 1800 1801\n",
      " 1802 1803 1804 1805 1806 1807 1808 1809 1810 1811 1812 1813 1814 1815\n",
      " 1816 1817 1818 1819 1820 1821 1822 1823 1824 1825 1826 1827 1828 1829\n",
      " 1830 1831 1832 1833 1834 1835 1836 1837 1838 1839 1840 1841 1842 1843\n",
      " 1844 1845 1846 1847 1848 1849 1850 1851 1852 1853 1854 1855 1856 1857\n",
      " 1858 1859 1860 1861 1862 1863 1864 1865 1866 1867 1868 1869 1870 1871\n",
      " 1872 1873 1874 1875 1876 1877 1878 1879 1880 1881 1882 1883 1884 1885\n",
      " 1886 1887 1888 1889 1890 1891 1892 1893 1894 1895 1896 1897 1898 1899\n",
      " 1900 1901 1902 1903 1904 1905 1906 1907 1908 1909 1910 1911 1912 1913\n",
      " 1914 1915 1916 1917 1918 1919 1920 1921 1922 1923 1924 1925 1926 1927\n",
      " 1928 1929 1930 1931 1932 1933 1934 1935 1936 1937 1938 1939 1940 1941\n",
      " 1942 1943 1944 1945 1946 1947 1948 1949 1950 1951 1952 1953 1954 1955\n",
      " 1956 1957 1958 1959 1960 1961 1962 1963 1964 1965 1966 1967 1968 1969\n",
      " 1970 1971 1972 1973 1974 1975 1976 1977 1978 1979 1980 1981 1982 1983\n",
      " 1984 1985 1986 1987 1988 1989 1990 1991 1992 1993 1994 1995 1996 1997\n",
      " 1998 1999 2000 2001 2002 2003 2004 2005 2006 2007 2008 2009 2010 2011\n",
      " 2012 2013 2014 2015 2016 2017 2018 2019 2020 2021 2022 2023 2024 2025\n",
      " 2026 2027 2028 2029 2030 2031 2032 2033 2034 2035 2036 2037 2038 2039\n",
      " 2040 2041 2042 2043 2044 2045 2046 2047 2048 2049 2050 2051 2052 2053\n",
      " 2054 2055 2056 2057 2058 2059 2060 2061 2062 2063 2064 2065 2066 2067\n",
      " 2068 2069 2070 2071 2072 2073 2074 2075 2076 2077 2078 2079 2080 2081\n",
      " 2082 2083 2084 2085 2086 2087 2088 2089 2090 2091 2092 2093]\n",
      "TRAIN: [   0    1    2 ... 3487 3488 3489] TEST: [2094 2095 2096 2097 2098 2099 2100 2101 2102 2103 2104 2105 2106 2107\n",
      " 2108 2109 2110 2111 2112 2113 2114 2115 2116 2117 2118 2119 2120 2121\n",
      " 2122 2123 2124 2125 2126 2127 2128 2129 2130 2131 2132 2133 2134 2135\n",
      " 2136 2137 2138 2139 2140 2141 2142 2143 2144 2145 2146 2147 2148 2149\n",
      " 2150 2151 2152 2153 2154 2155 2156 2157 2158 2159 2160 2161 2162 2163\n",
      " 2164 2165 2166 2167 2168 2169 2170 2171 2172 2173 2174 2175 2176 2177\n",
      " 2178 2179 2180 2181 2182 2183 2184 2185 2186 2187 2188 2189 2190 2191\n",
      " 2192 2193 2194 2195 2196 2197 2198 2199 2200 2201 2202 2203 2204 2205\n",
      " 2206 2207 2208 2209 2210 2211 2212 2213 2214 2215 2216 2217 2218 2219\n",
      " 2220 2221 2222 2223 2224 2225 2226 2227 2228 2229 2230 2231 2232 2233\n",
      " 2234 2235 2236 2237 2238 2239 2240 2241 2242 2243 2244 2245 2246 2247\n",
      " 2248 2249 2250 2251 2252 2253 2254 2255 2256 2257 2258 2259 2260 2261\n",
      " 2262 2263 2264 2265 2266 2267 2268 2269 2270 2271 2272 2273 2274 2275\n",
      " 2276 2277 2278 2279 2280 2281 2282 2283 2284 2285 2286 2287 2288 2289\n",
      " 2290 2291 2292 2293 2294 2295 2296 2297 2298 2299 2300 2301 2302 2303\n",
      " 2304 2305 2306 2307 2308 2309 2310 2311 2312 2313 2314 2315 2316 2317\n",
      " 2318 2319 2320 2321 2322 2323 2324 2325 2326 2327 2328 2329 2330 2331\n",
      " 2332 2333 2334 2335 2336 2337 2338 2339 2340 2341 2342 2343 2344 2345\n",
      " 2346 2347 2348 2349 2350 2351 2352 2353 2354 2355 2356 2357 2358 2359\n",
      " 2360 2361 2362 2363 2364 2365 2366 2367 2368 2369 2370 2371 2372 2373\n",
      " 2374 2375 2376 2377 2378 2379 2380 2381 2382 2383 2384 2385 2386 2387\n",
      " 2388 2389 2390 2391 2392 2393 2394 2395 2396 2397 2398 2399 2400 2401\n",
      " 2402 2403 2404 2405 2406 2407 2408 2409 2410 2411 2412 2413 2414 2415\n",
      " 2416 2417 2418 2419 2420 2421 2422 2423 2424 2425 2426 2427 2428 2429\n",
      " 2430 2431 2432 2433 2434 2435 2436 2437 2438 2439 2440 2441 2442 2443\n",
      " 2444 2445 2446 2447 2448 2449 2450 2451 2452 2453 2454 2455 2456 2457\n",
      " 2458 2459 2460 2461 2462 2463 2464 2465 2466 2467 2468 2469 2470 2471\n",
      " 2472 2473 2474 2475 2476 2477 2478 2479 2480 2481 2482 2483 2484 2485\n",
      " 2486 2487 2488 2489 2490 2491 2492 2493 2494 2495 2496 2497 2498 2499\n",
      " 2500 2501 2502 2503 2504 2505 2506 2507 2508 2509 2510 2511 2512 2513\n",
      " 2514 2515 2516 2517 2518 2519 2520 2521 2522 2523 2524 2525 2526 2527\n",
      " 2528 2529 2530 2531 2532 2533 2534 2535 2536 2537 2538 2539 2540 2541\n",
      " 2542 2543 2544 2545 2546 2547 2548 2549 2550 2551 2552 2553 2554 2555\n",
      " 2556 2557 2558 2559 2560 2561 2562 2563 2564 2565 2566 2567 2568 2569\n",
      " 2570 2571 2572 2573 2574 2575 2576 2577 2578 2579 2580 2581 2582 2583\n",
      " 2584 2585 2586 2587 2588 2589 2590 2591 2592 2593 2594 2595 2596 2597\n",
      " 2598 2599 2600 2601 2602 2603 2604 2605 2606 2607 2608 2609 2610 2611\n",
      " 2612 2613 2614 2615 2616 2617 2618 2619 2620 2621 2622 2623 2624 2625\n",
      " 2626 2627 2628 2629 2630 2631 2632 2633 2634 2635 2636 2637 2638 2639\n",
      " 2640 2641 2642 2643 2644 2645 2646 2647 2648 2649 2650 2651 2652 2653\n",
      " 2654 2655 2656 2657 2658 2659 2660 2661 2662 2663 2664 2665 2666 2667\n",
      " 2668 2669 2670 2671 2672 2673 2674 2675 2676 2677 2678 2679 2680 2681\n",
      " 2682 2683 2684 2685 2686 2687 2688 2689 2690 2691 2692 2693 2694 2695\n",
      " 2696 2697 2698 2699 2700 2701 2702 2703 2704 2705 2706 2707 2708 2709\n",
      " 2710 2711 2712 2713 2714 2715 2716 2717 2718 2719 2720 2721 2722 2723\n",
      " 2724 2725 2726 2727 2728 2729 2730 2731 2732 2733 2734 2735 2736 2737\n",
      " 2738 2739 2740 2741 2742 2743 2744 2745 2746 2747 2748 2749 2750 2751\n",
      " 2752 2753 2754 2755 2756 2757 2758 2759 2760 2761 2762 2763 2764 2765\n",
      " 2766 2767 2768 2769 2770 2771 2772 2773 2774 2775 2776 2777 2778 2779\n",
      " 2780 2781 2782 2783 2784 2785 2786 2787 2788 2789 2790 2791]\n",
      "TRAIN: [   0    1    2 ... 2789 2790 2791] TEST: [2792 2793 2794 2795 2796 2797 2798 2799 2800 2801 2802 2803 2804 2805\n",
      " 2806 2807 2808 2809 2810 2811 2812 2813 2814 2815 2816 2817 2818 2819\n",
      " 2820 2821 2822 2823 2824 2825 2826 2827 2828 2829 2830 2831 2832 2833\n",
      " 2834 2835 2836 2837 2838 2839 2840 2841 2842 2843 2844 2845 2846 2847\n",
      " 2848 2849 2850 2851 2852 2853 2854 2855 2856 2857 2858 2859 2860 2861\n",
      " 2862 2863 2864 2865 2866 2867 2868 2869 2870 2871 2872 2873 2874 2875\n",
      " 2876 2877 2878 2879 2880 2881 2882 2883 2884 2885 2886 2887 2888 2889\n",
      " 2890 2891 2892 2893 2894 2895 2896 2897 2898 2899 2900 2901 2902 2903\n",
      " 2904 2905 2906 2907 2908 2909 2910 2911 2912 2913 2914 2915 2916 2917\n",
      " 2918 2919 2920 2921 2922 2923 2924 2925 2926 2927 2928 2929 2930 2931\n",
      " 2932 2933 2934 2935 2936 2937 2938 2939 2940 2941 2942 2943 2944 2945\n",
      " 2946 2947 2948 2949 2950 2951 2952 2953 2954 2955 2956 2957 2958 2959\n",
      " 2960 2961 2962 2963 2964 2965 2966 2967 2968 2969 2970 2971 2972 2973\n",
      " 2974 2975 2976 2977 2978 2979 2980 2981 2982 2983 2984 2985 2986 2987\n",
      " 2988 2989 2990 2991 2992 2993 2994 2995 2996 2997 2998 2999 3000 3001\n",
      " 3002 3003 3004 3005 3006 3007 3008 3009 3010 3011 3012 3013 3014 3015\n",
      " 3016 3017 3018 3019 3020 3021 3022 3023 3024 3025 3026 3027 3028 3029\n",
      " 3030 3031 3032 3033 3034 3035 3036 3037 3038 3039 3040 3041 3042 3043\n",
      " 3044 3045 3046 3047 3048 3049 3050 3051 3052 3053 3054 3055 3056 3057\n",
      " 3058 3059 3060 3061 3062 3063 3064 3065 3066 3067 3068 3069 3070 3071\n",
      " 3072 3073 3074 3075 3076 3077 3078 3079 3080 3081 3082 3083 3084 3085\n",
      " 3086 3087 3088 3089 3090 3091 3092 3093 3094 3095 3096 3097 3098 3099\n",
      " 3100 3101 3102 3103 3104 3105 3106 3107 3108 3109 3110 3111 3112 3113\n",
      " 3114 3115 3116 3117 3118 3119 3120 3121 3122 3123 3124 3125 3126 3127\n",
      " 3128 3129 3130 3131 3132 3133 3134 3135 3136 3137 3138 3139 3140 3141\n",
      " 3142 3143 3144 3145 3146 3147 3148 3149 3150 3151 3152 3153 3154 3155\n",
      " 3156 3157 3158 3159 3160 3161 3162 3163 3164 3165 3166 3167 3168 3169\n",
      " 3170 3171 3172 3173 3174 3175 3176 3177 3178 3179 3180 3181 3182 3183\n",
      " 3184 3185 3186 3187 3188 3189 3190 3191 3192 3193 3194 3195 3196 3197\n",
      " 3198 3199 3200 3201 3202 3203 3204 3205 3206 3207 3208 3209 3210 3211\n",
      " 3212 3213 3214 3215 3216 3217 3218 3219 3220 3221 3222 3223 3224 3225\n",
      " 3226 3227 3228 3229 3230 3231 3232 3233 3234 3235 3236 3237 3238 3239\n",
      " 3240 3241 3242 3243 3244 3245 3246 3247 3248 3249 3250 3251 3252 3253\n",
      " 3254 3255 3256 3257 3258 3259 3260 3261 3262 3263 3264 3265 3266 3267\n",
      " 3268 3269 3270 3271 3272 3273 3274 3275 3276 3277 3278 3279 3280 3281\n",
      " 3282 3283 3284 3285 3286 3287 3288 3289 3290 3291 3292 3293 3294 3295\n",
      " 3296 3297 3298 3299 3300 3301 3302 3303 3304 3305 3306 3307 3308 3309\n",
      " 3310 3311 3312 3313 3314 3315 3316 3317 3318 3319 3320 3321 3322 3323\n",
      " 3324 3325 3326 3327 3328 3329 3330 3331 3332 3333 3334 3335 3336 3337\n",
      " 3338 3339 3340 3341 3342 3343 3344 3345 3346 3347 3348 3349 3350 3351\n",
      " 3352 3353 3354 3355 3356 3357 3358 3359 3360 3361 3362 3363 3364 3365\n",
      " 3366 3367 3368 3369 3370 3371 3372 3373 3374 3375 3376 3377 3378 3379\n",
      " 3380 3381 3382 3383 3384 3385 3386 3387 3388 3389 3390 3391 3392 3393\n",
      " 3394 3395 3396 3397 3398 3399 3400 3401 3402 3403 3404 3405 3406 3407\n",
      " 3408 3409 3410 3411 3412 3413 3414 3415 3416 3417 3418 3419 3420 3421\n",
      " 3422 3423 3424 3425 3426 3427 3428 3429 3430 3431 3432 3433 3434 3435\n",
      " 3436 3437 3438 3439 3440 3441 3442 3443 3444 3445 3446 3447 3448 3449\n",
      " 3450 3451 3452 3453 3454 3455 3456 3457 3458 3459 3460 3461 3462 3463\n",
      " 3464 3465 3466 3467 3468 3469 3470 3471 3472 3473 3474 3475 3476 3477\n",
      " 3478 3479 3480 3481 3482 3483 3484 3485 3486 3487 3488 3489]\n"
     ]
    }
   ],
   "source": [
    "for train_index, test_index in kf.split(X_CV,y_CV):\n",
    " print('TRAIN:', train_index, 'TEST:', test_index)\n",
    " X_CV_train, X_CV_test = X_CV[train_index], X_CV[test_index]\n",
    " y_CV_train, y_CV_test = y_CV[train_index], y_CV[test_index]\n"
   ]
  },
  {
   "cell_type": "code",
   "execution_count": 408,
   "metadata": {},
   "outputs": [],
   "source": [
    "# Necessary imports: \n",
    "from sklearn.cross_validation import cross_val_score, cross_val_predict\n",
    "from sklearn import metrics"
   ]
  },
  {
   "cell_type": "code",
   "execution_count": 409,
   "metadata": {},
   "outputs": [],
   "source": [
    "model=lr_model.fit(X_CV_train, y_CV_train)\n",
    "lr_model.coef_\n",
    "lr_model.intercept_\n",
    "y_pred_CV = model.predict(X_CV_test) "
   ]
  },
  {
   "cell_type": "code",
   "execution_count": 410,
   "metadata": {},
   "outputs": [
    {
     "name": "stdout",
     "output_type": "stream",
     "text": [
      "R^2:  0.8730790483120558\n"
     ]
    }
   ],
   "source": [
    "from sklearn.metrics import r2_score\n",
    "print(\"R^2: \", r2_score(y_CV_test, y_pred_CV))"
   ]
  },
  {
   "cell_type": "code",
   "execution_count": 411,
   "metadata": {},
   "outputs": [
    {
     "name": "stdout",
     "output_type": "stream",
     "text": [
      "Cross-validated scores: [0.86560882 0.83099768 0.82388362 0.86850182 0.83318966 0.80165127\n",
      " 0.807514   0.86385769 0.89134555 0.85383202]\n"
     ]
    }
   ],
   "source": [
    "#Perform 10-fold cross validation\n",
    "#scores = cross_val_score(model, X_CV, y_CV, cv=10)\n",
    "#print (\"Cross-validated scores:\", scores)\n",
    "scores = cross_val_score(model, X_CV, y_CV, cv=10)\n",
    "print (\"Cross-validated scores:\", scores)"
   ]
  },
  {
   "cell_type": "code",
   "execution_count": 412,
   "metadata": {},
   "outputs": [
    {
     "name": "stdout",
     "output_type": "stream",
     "text": [
      "Accuracy: 0.84 (+/- 0.06)\n"
     ]
    }
   ],
   "source": [
    "print(\"Accuracy: %0.2f (+/- %0.2f)\" % (scores.mean(), scores.std() * 2))"
   ]
  },
  {
   "cell_type": "code",
   "execution_count": 413,
   "metadata": {},
   "outputs": [
    {
     "data": {
      "text/plain": [
       "<matplotlib.collections.PathCollection at 0x1abe603c358>"
      ]
     },
     "execution_count": 413,
     "metadata": {},
     "output_type": "execute_result"
    },
    {
     "data": {
      "image/png": "[encoded data removed]",
      "text/plain": [
       "<matplotlib.figure.Figure at 0x1abeadfff60>"
      ]
     },
     "metadata": {},
     "output_type": "display_data"
    }
   ],
   "source": [
    "#predictions = cross_val_predict(model, X_CV, y_CV, cv=10)\n",
    "plt.scatter(y_CV_test, y_pred_CV,color='blue')"
   ]
  },
  {
   "cell_type": "code",
   "execution_count": 414,
   "metadata": {},
   "outputs": [],
   "source": [
    "#accuracy = metrics.r2_score(y_CV, predictions)\n",
    "#print (\"Cross-Predicted Accuracy:\",accuracy*100,'%')"
   ]
  },
  {
   "cell_type": "code",
   "execution_count": 415,
   "metadata": {},
   "outputs": [],
   "source": [
    "#from sklearn.ensemble import RandomForestRegressor\n",
    "#from sklearn.datasets import make_regression\n",
    "#X_train, y_train = make_regression(n_features=8, n_informative=2,\n",
    " #                      random_state=0, shuffle=False)\n",
    "#regr = RandomForestRegressor(max_depth=2, random_state=0)\n",
    "#regr.fit(X_train, y_train)\n",
    "#print(regr.feature_importances_)\n",
    "#print(regr.predict([[0, 0, 0, 0,0, 0, 0, 0]]))\n",
    "#y_pred_RF = regr.predict(X_test)\n",
    "#print(\"RandomForest_R^2: \", r2_score(y_test, y_pred_RF))"
   ]
  },
  {
   "cell_type": "markdown",
   "metadata": {},
   "source": [
    "# Decision Tree Regressor"
   ]
  },
  {
   "cell_type": "code",
   "execution_count": 416,
   "metadata": {},
   "outputs": [
    {
     "name": "stdout",
     "output_type": "stream",
     "text": [
      "DecisionTreeRegressor_R^2:  0.8871561971015788\n"
     ]
    }
   ],
   "source": [
    "from sklearn.tree import DecisionTreeRegressor\n",
    "regressor = DecisionTreeRegressor(random_state = 0)\n",
    "regressor.fit(X_train, y_train)\n",
    "y_pred_RG = regressor.predict(X_test)\n",
    "print(\"DecisionTreeRegressor_R^2: \", r2_score(y_test, y_pred_RG))"
   ]
  },
  {
   "cell_type": "code",
   "execution_count": 417,
   "metadata": {},
   "outputs": [
    {
     "data": {
      "image/png": "[encoded data removed]",
      "text/plain": [
       "<matplotlib.figure.Figure at 0x1abe5dc80f0>"
      ]
     },
     "metadata": {},
     "output_type": "display_data"
    }
   ],
   "source": [
    "plt.scatter( y_test,y_pred_RG,color='green')\n",
    "#plt.scatter( y_CV,predictions,color='red')\n",
    "#plt.plot( y_test,y_pred,color='blue')\n",
    "#plt.scatter( y_test,color='green')\n",
    "#plt.scatter( y_pred_RG,color='red')\n",
    "plt.xlabel('Actual Values')\n",
    "plt.ylabel('Predicted Values')\n",
    "plt.title('Decision tree regressor')\n",
    "plt.show()\n"
   ]
  },
  {
   "cell_type": "markdown",
   "metadata": {},
   "source": [
    "# LASSO ALGO"
   ]
  },
  {
   "cell_type": "code",
   "execution_count": 418,
   "metadata": {},
   "outputs": [
    {
     "name": "stdout",
     "output_type": "stream",
     "text": [
      "Lasso(alpha=0.1, copy_X=True, fit_intercept=True, max_iter=1000,\n",
      "   normalize=False, positive=False, precompute=False, random_state=None,\n",
      "   selection='cyclic', tol=0.0001, warm_start=False)\n",
      "r^2 on test data : 0.873165\n"
     ]
    }
   ],
   "source": [
    "\n",
    "from sklearn.linear_model import Lasso\n",
    "alpha = 0.1\n",
    "lasso = Lasso(alpha=alpha)\n",
    "y_pred_lasso = lasso.fit(X_CV_train, y_CV_train).predict(X_CV_test)\n",
    "r2_score_lasso = r2_score(y_CV_test, y_pred_lasso)\n",
    "#y_pred_lasso = lasso.fit(X_CV_train, y_CV_train).predict(X_CV_test)\n",
    "#r2_score_lasso = r2_score(y_CV_test, y_pred_lasso)\n",
    "print(lasso)\n",
    "print(\"r^2 on test data : %f\" % r2_score_lasso)"
   ]
  },
  {
   "cell_type": "markdown",
   "metadata": {},
   "source": [
    "# Predicted Data Visualization"
   ]
  },
  {
   "cell_type": "code",
   "execution_count": 419,
   "metadata": {},
   "outputs": [
    {
     "data": {
      "image/png": "[encoded data removed]",
      "text/plain": [
       "<matplotlib.figure.Figure at 0x1abe9d000b8>"
      ]
     },
     "metadata": {},
     "output_type": "display_data"
    }
   ],
   "source": [
    "plt.scatter(X_train['zip_code'], y_train, color = 'red')\n",
    "plt.scatter(X_test['zip_code'], regressor.predict(X_test), color = 'blue')\n",
    "plt.title('Zip_Code VS Total Crime Occurence')\n",
    "plt.xlabel('Zip Code',size=20,color='black')\n",
    "plt.ylabel('Total Crime',size=20,color='black')\n",
    "plt.axis([64000,64200,0,700])\n",
    "plt.show()"
   ]
  },
  {
   "cell_type": "code",
   "execution_count": 422,
   "metadata": {},
   "outputs": [
    {
     "data": {
      "image/png": "[encoded data removed]",
      "text/plain": [
       "<matplotlib.figure.Figure at 0x1abe65d1da0>"
      ]
     },
     "metadata": {},
     "output_type": "display_data"
    }
   ],
   "source": [
    "plt.scatter(X_train['year'], y_train, color = 'red')\n",
    "plt.scatter(X_test['year'], regressor.predict(X_test), color = 'blue')\n",
    "plt.title('Total Crime Occurence VS Year')\n",
    "plt.xlabel('year',size=20,color='black')\n",
    "plt.ylabel('Total Crime',size=20,color='black')\n",
    "#plt.axis([64000,64200,0,700])\n",
    "plt.show()"
   ]
  },
  {
   "cell_type": "code",
   "execution_count": 152,
   "metadata": {},
   "outputs": [
    {
     "data": {
      "image/png": "[encoded data removed]",
      "text/plain": [
       "<matplotlib.figure.Figure at 0x1abe72cb080>"
      ]
     },
     "metadata": {},
     "output_type": "display_data"
    }
   ],
   "source": [
    "#Visualize the test model\n",
    "plt.scatter(X_train['firearm'], y_train, color = 'red')\n",
    "#plt.plot(X_test['firearm'], lr_model.predict(X_test), color='blue')\n",
    "plt.scatter(X_test['firearm'], lr_model.predict(X_test), color='blue')\n",
    "plt.xlabel('firearm')\n",
    "plt.ylabel('offense_total')\n",
    "plt.show()"
   ]
  },
  {
   "cell_type": "code",
   "execution_count": 153,
   "metadata": {},
   "outputs": [
    {
     "data": {
      "image/png": "[encoded data removed]",
      "text/plain": [
       "<matplotlib.figure.Figure at 0x1abe89a92e8>"
      ]
     },
     "metadata": {},
     "output_type": "display_data"
    }
   ],
   "source": [
    "#Visualize the test model\n",
    "plt.scatter(X_test['dv'], y_test, color = 'red')\n",
    "#plt.plot(X_test['dv'], lr_model.predict(X_test), color='blue')\n",
    "#plt.subplot(X_test['dv'], lr_model.predict(X_test), color='blue')\n",
    "plt.scatter(X_test['dv'], lr_model.predict(X_test), color='blue')\n",
    "plt.axis([0,75,0,700])\n",
    "plt.xlabel('dv')\n",
    "plt.ylabel('offense_total')\n",
    "plt.show()"
   ]
  },
  {
   "cell_type": "code",
   "execution_count": 154,
   "metadata": {},
   "outputs": [
    {
     "data": {
      "image/png": "[encoded data removed]",
      "text/plain": [
       "<matplotlib.figure.Figure at 0x1abe8a13d30>"
      ]
     },
     "metadata": {},
     "output_type": "display_data"
    }
   ],
   "source": [
    "#Visualize the test model\n",
    "plt.scatter(X_train['house_price_index'], y_train, color = 'red')\n",
    "#plt.plot(X_train, lr_model.predict(X_train), color='blue')\n",
    "plt.scatter(X_test['house_price_index'], lr_model.predict(X_test), color='blue')\n",
    "plt.xlabel('house_price_index')\n",
    "plt.ylabel('offense_total')\n",
    "plt.show()"
   ]
  },
  {
   "cell_type": "code",
   "execution_count": 155,
   "metadata": {},
   "outputs": [
    {
     "data": {
      "image/png": "[encoded data removed]",
      "text/plain": [
       "<matplotlib.figure.Figure at 0x1abe898b160>"
      ]
     },
     "metadata": {},
     "output_type": "display_data"
    }
   ],
   "source": [
    "#Visualize the test model\n",
    "plt.scatter(X_train['population'], y_train, color = 'red')\n",
    "#plt.plot(X_train, lr_model.predict(X_train), color='blue')\n",
    "plt.scatter(X_test['population'], lr_model.predict(X_test), color='blue')\n",
    "plt.xlabel('population')\n",
    "plt.ylabel('offense_total')\n",
    "plt.show()"
   ]
  },
  {
   "cell_type": "code",
   "execution_count": null,
   "metadata": {},
   "outputs": [],
   "source": []
  },
  {
   "cell_type": "code",
   "execution_count": 206,
   "metadata": {},
   "outputs": [],
   "source": [
    "#chart = ggplot( X, aes(x='X_test.iloc[:,3]', y='y_test', color='y_test') ) \\\n",
    " #       + geom_point(size=75,alpha=0.8) \\\n",
    "  #      + scale_color_gradient(low = 'red', high = 'blue') \\\n",
    "   #     + ggtitle(\"Crimes Occurance per Year\")\n",
    "#chart"
   ]
  },
  {
   "cell_type": "code",
   "execution_count": 285,
   "metadata": {},
   "outputs": [],
   "source": [
    "#dataset['ZipCode'] = X_test.iloc[:,0]\n",
    "#dataset['Offence_Occurence'] = y_test\n"
   ]
  },
  {
   "cell_type": "code",
   "execution_count": 207,
   "metadata": {},
   "outputs": [],
   "source": [
    "#chart = ggplot( dataset, aes(x='X_opt.iloc[:,0]', y='y.values.reshape(-1,1)', color='y') ) \\\n",
    " #       + geom_point(size=75,alpha=0.8) \\\n",
    "  #      + scale_color_gradient(low = 'yellow', high = 'blue') \\\n",
    "   #     + ggtitle(\"Crimes Occurance per zipcode\") \\\n",
    "    #    + xlab('Zip Codes') \\\n",
    "     #   + ylab('Total Crime Occured') \n",
    "#chart"
   ]
  },
  {
   "cell_type": "code",
   "execution_count": 208,
   "metadata": {},
   "outputs": [],
   "source": [
    "#dataset['month'] = X_test.iloc[:,4]\n",
    "#dataset['Offence_Occurence'] = y_test\n",
    "#chart = ggplot( dataset, aes(x='X_test.iloc[:,4]', y='y_test', color='y_test.values.reshape(-1,1)') ) \\\n",
    " #       + geom_point(size=75,alpha=0.8) \\\n",
    "  #      + scale_color_gradient(low = 'red', high = 'blue') \\\n",
    "   #     + ggtitle(\"Crimes Occurance per month\")\n",
    "#chart\n",
    "\n"
   ]
  },
  {
   "cell_type": "code",
   "execution_count": 209,
   "metadata": {},
   "outputs": [],
   "source": [
    "#dataset['house_price_index'] = X_test.iloc[:,8]\n",
    "#dataset['Offence_Occurence'] = y_test\n",
    "#chart = ggplot( dataset, aes(x='house_price_index', y='y_test', color='y_test.values.reshape(-1,1)') ) \\\n",
    " #       + geom_point(size=75,alpha=0.8) \\\n",
    "  #      + scale_color_gradient(low = 'red', high = 'blue') \\\n",
    "   #     + ggtitle(\"Crimes Occurance per house_price_index\")\n",
    "#chart"
   ]
  },
  {
   "cell_type": "code",
   "execution_count": 105,
   "metadata": {},
   "outputs": [],
   "source": [
    "#dataset['new_priv_housing'] = X_test.iloc[:,9]\n",
    "#dataset['Offence_Occurence'] = y_test\n",
    "#chart = ggplot( dataset, aes(x='X_test.iloc[:,9]', y='y_test', color='y_test.values.reshape(-1,1)') ) \\\n",
    "    #    + geom_point(size=75,alpha=0.8) \\\n",
    "   #     + scale_color_gradient(low = 'red', high = 'blue') \\\n",
    "   #     + ggtitle(\"Crimes Occurance per new_priv_housing\")\n",
    "#chart"
   ]
  },
  {
   "cell_type": "code",
   "execution_count": 210,
   "metadata": {},
   "outputs": [],
   "source": [
    "\n",
    "#dataset['firearm'] = X_test.iloc[:,2]\n",
    "#dataset['Offense_Total'] = y_test\n",
    "#chart = ggplot( dataset, aes(x='X_test.iloc[:,2]', y='y_test', color='y_test.values.reshape(-1,1)') ) \\\n",
    " #       + geom_point(size=75,alpha=0.8) \\\n",
    "  #      + scale_color_gradient(low = 'red', high = 'blue') \\\n",
    "   #     + ggtitle(\"Crimes Occurance as per FireArm\")\n",
    "#chart"
   ]
  },
  {
   "cell_type": "code",
   "execution_count": null,
   "metadata": {},
   "outputs": [],
   "source": []
  },
  {
   "cell_type": "code",
   "execution_count": 211,
   "metadata": {},
   "outputs": [],
   "source": [
    "#dataset['per_cap_income'] = X_test.iloc[:,8]\n",
    "#dataset['Offense_Total'] = y_test\n",
    "#chart = ggplot( dataset, aes(x='X_test.iloc[:,8]', y='y_test', color='y_test.values.reshape(-1,1)') ) \\\n",
    " #       + geom_point(size=75,alpha=0.8) \\\n",
    "  #      + scale_color_gradient(low = 'red', high = 'blue') \\\n",
    "   #     + ggtitle(\"Crimes Occurance as per Per Capita Income\")\n",
    "#chart\n",
    "\n",
    "\n"
   ]
  },
  {
   "cell_type": "code",
   "execution_count": 212,
   "metadata": {},
   "outputs": [
    {
     "name": "stderr",
     "output_type": "stream",
     "text": [
      "C:\\Users\\deepa\\AppData\\Local\\Continuum\\anaconda3\\lib\\site-packages\\scipy\\linalg\\basic.py:40: RuntimeWarning: scipy.linalg.solve\n",
      "Ill-conditioned matrix detected. Result is not guaranteed to be accurate.\n",
      "Reciprocal condition number/precision: 4.122102832682106e-12 / 5.960464477539063e-08\n",
      "  RuntimeWarning)\n"
     ]
    },
    {
     "data": {
      "text/plain": [
       "26791.04"
      ]
     },
     "execution_count": 212,
     "metadata": {},
     "output_type": "execute_result"
    }
   ],
   "source": [
    "from sklearn import linear_model\n",
    "reg = linear_model.Ridge (alpha = .5)\n",
    "reg.fit (X_CV, y_CV) \n",
    "\n",
    "\n",
    "reg.coef_\n",
    "\n",
    "reg.intercept_ \n"
   ]
  },
  {
   "cell_type": "code",
   "execution_count": 214,
   "metadata": {},
   "outputs": [
    {
     "data": {
      "text/plain": [
       "10.0"
      ]
     },
     "execution_count": 214,
     "metadata": {},
     "output_type": "execute_result"
    }
   ],
   "source": [
    "from sklearn import linear_model\n",
    "reg = linear_model.RidgeCV(alphas=[0.1, 1.0, 10.0])\n",
    "reg.fit(X_train, y_train)       \n",
    "reg.alpha_  "
   ]
  },
  {
   "cell_type": "code",
   "execution_count": 215,
   "metadata": {},
   "outputs": [],
   "source": [
    "from sklearn.tree import DecisionTreeRegressor"
   ]
  },
  {
   "cell_type": "code",
   "execution_count": 216,
   "metadata": {},
   "outputs": [],
   "source": [
    "regressor = DecisionTreeRegressor(random_state = 0)"
   ]
  },
  {
   "cell_type": "code",
   "execution_count": 217,
   "metadata": {},
   "outputs": [
    {
     "data": {
      "text/plain": [
       "DecisionTreeRegressor(criterion='mse', max_depth=None, max_features=None,\n",
       "           max_leaf_nodes=None, min_impurity_decrease=0.0,\n",
       "           min_impurity_split=None, min_samples_leaf=1,\n",
       "           min_samples_split=2, min_weight_fraction_leaf=0.0,\n",
       "           presort=False, random_state=0, splitter='best')"
      ]
     },
     "execution_count": 217,
     "metadata": {},
     "output_type": "execute_result"
    }
   ],
   "source": [
    "regressor.fit(X_train, y_train)"
   ]
  },
  {
   "cell_type": "code",
   "execution_count": 218,
   "metadata": {},
   "outputs": [],
   "source": [
    "y_pred = regressor.predict(X_test)"
   ]
  },
  {
   "cell_type": "code",
   "execution_count": 219,
   "metadata": {},
   "outputs": [
    {
     "data": {
      "text/plain": [
       "array([0.93014872, 0.76168618, 0.90498946, 0.87847852, 0.78570962,\n",
       "       0.89470014, 0.81966964, 0.84806672, 0.85194877, 0.75837279])"
      ]
     },
     "execution_count": 219,
     "metadata": {},
     "output_type": "execute_result"
    }
   ],
   "source": [
    "cross_val_score(regressor,X_test, y_test, cv=10)"
   ]
  },
  {
   "cell_type": "code",
   "execution_count": 221,
   "metadata": {},
   "outputs": [
    {
     "data": {
      "text/plain": [
       "0.890083246814378"
      ]
     },
     "execution_count": 221,
     "metadata": {},
     "output_type": "execute_result"
    }
   ],
   "source": [
    "r2_score( y_test,y_pred)\n"
   ]
  },
  {
   "cell_type": "code",
   "execution_count": 536,
   "metadata": {},
   "outputs": [
    {
     "data": {
      "image/png": "[encoded data removed]",
      "text/plain": [
       "<matplotlib.figure.Figure at 0x18ee4f1a320>"
      ]
     },
     "metadata": {},
     "output_type": "display_data"
    }
   ],
   "source": [
    "# Create a random dataset\n",
    "rng = np.random.RandomState(1)\n",
    "X = np.sort(5 * rng.rand(80, 1), axis=0)\n",
    "y = np.sin(X).ravel()\n",
    "y[::5] += 3 * (0.5 - rng.rand(16))\n",
    "\n",
    "# Fit regression model\n",
    "regr_1 = DecisionTreeRegressor(max_depth=2)\n",
    "regr_2 = DecisionTreeRegressor(max_depth=5)\n",
    "regr_1.fit(X_train, y_train)\n",
    "regr_2.fit(X_train, y_train)\n",
    "\n",
    "# Predict\n",
    "#X_test = np.arange(0.0, 5.0, 0.01)[:,0]\n",
    "y_1 = regr_1.predict(X_test)\n",
    "y_2 = regr_2.predict(X_test)\n",
    "\n",
    "# Plot the results\n",
    "plt.figure()\n",
    "plt.scatter(X_train['year'], y_train, s=20, edgecolor=\"black\",\n",
    "            c=\"darkorange\", label=\"data\")\n",
    "plt.scatter(X_test['year'], y_1, color=\"cornflowerblue\",\n",
    "         label=\"max_depth=2\", linewidth=2)\n",
    "plt.scatter(X_test['year'], y_2, color=\"yellowgreen\", label=\"max_depth=5\", linewidth=2)\n",
    "plt.xlabel(\"data\")\n",
    "plt.ylabel(\"target\")\n",
    "plt.title(\"Decision Tree Regression\")\n",
    "plt.legend()\n",
    "plt.show()"
   ]
  },
  {
   "cell_type": "code",
   "execution_count": 305,
   "metadata": {},
   "outputs": [
    {
     "data": {
      "text/plain": [
       "0        20101\n",
       "1        20101\n",
       "2        20101\n",
       "3        20101\n",
       "4        20101\n",
       "5        20101\n",
       "6        20101\n",
       "7        20101\n",
       "8        20101\n",
       "9        20101\n",
       "10       20101\n",
       "11       20101\n",
       "12       20101\n",
       "13       20101\n",
       "14       20101\n",
       "15       20101\n",
       "16       20101\n",
       "17       20101\n",
       "18       20101\n",
       "19       20101\n",
       "20       20101\n",
       "21       20101\n",
       "22       20101\n",
       "23       20101\n",
       "24       20101\n",
       "25       20101\n",
       "26       20101\n",
       "27       20101\n",
       "28       20101\n",
       "29       20101\n",
       "         ...  \n",
       "4333    201612\n",
       "4334    201612\n",
       "4335    201612\n",
       "4336    201612\n",
       "4337    201612\n",
       "4338    201612\n",
       "4339    201612\n",
       "4340    201612\n",
       "4341    201612\n",
       "4342    201612\n",
       "4343    201612\n",
       "4344    201612\n",
       "4345    201612\n",
       "4346    201612\n",
       "4347    201612\n",
       "4348    201612\n",
       "4349    201612\n",
       "4350    201612\n",
       "4351    201612\n",
       "4352    201612\n",
       "4353    201612\n",
       "4354    201612\n",
       "4355    201612\n",
       "4356    201612\n",
       "4357    201612\n",
       "4358    201612\n",
       "4359    201612\n",
       "4360    201612\n",
       "4361    201612\n",
       "4362    201612\n",
       "Name: from_date, Length: 4363, dtype: int32"
      ]
     },
     "execution_count": 305,
     "metadata": {},
     "output_type": "execute_result"
    }
   ],
   "source": [
    "X_opt.iloc[:,0]"
   ]
  },
  {
   "cell_type": "code",
   "execution_count": 423,
   "metadata": {},
   "outputs": [
    {
     "data": {
      "image/png": "[encoded data removed]",
      "text/plain": [
       "<matplotlib.figure.Figure at 0x1abe5d8a3c8>"
      ]
     },
     "metadata": {},
     "output_type": "display_data"
    },
    {
     "data": {
      "text/plain": [
       "<ggplot: (114863430783)>"
      ]
     },
     "execution_count": 423,
     "metadata": {},
     "output_type": "execute_result"
    }
   ],
   "source": [
    "chart = ggplot( dataset, aes(x='X_opt.iloc[:,1].values.reshape(-1,1)', y='y.values.reshape(-1,1)', color='y') ) \\\n",
    "        + geom_point(size=75,alpha=0.8) \\\n",
    "        + scale_color_gradient(low = 'yellow', high = 'blue') \\\n",
    "        + ggtitle(\"Crimes Occurance per zipcode\") \\\n",
    "        + xlab('Zip Codes') \\\n",
    "        + ylab('Total Crime Occured') \n",
    "chart"
   ]
  },
  {
   "cell_type": "code",
   "execution_count": null,
   "metadata": {},
   "outputs": [],
   "source": [
    "chart = ggplot( dataset, aes(x='dataset.iloc[:,9]', y='dataset.iloc[:,15].values.reshape(-1,1)', color='dataset.iloc[:,15]') ) \\\n",
    "        + geom_point(size=75,alpha=0.8) \\\n",
    "        + scale_color_gradient(low = 'yellow', high = 'blue') \\\n",
    "        + ggtitle(\"Unemployment Rate per zipcode\") \\\n",
    "        + xlab('Year') \\\n",
    "        + ylab('Unemployment Rate') \n",
    "chart"
   ]
  },
  {
   "cell_type": "code",
   "execution_count": null,
   "metadata": {},
   "outputs": [],
   "source": [
    "chart = ggplot( dataset, aes(x='dataset.iloc[:,9]', y='dataset.iloc[:,16].values.reshape(-1,1)', color='dataset.iloc[:,16]') ) \\\n",
    "        + geom_point(size=85,alpha=0.8) \\\n",
    "        + scale_color_gradient(low = 'yellow', high = 'blue') \\\n",
    "        + ggtitle(\"House Price per year\") \\\n",
    "        + xlab('Year') \\\n",
    "        + ylab('House Price Index') \n",
    "chart"
   ]
  },
  {
   "cell_type": "code",
   "execution_count": null,
   "metadata": {},
   "outputs": [],
   "source": [
    "chart = ggplot( dataset, aes(x='dataset.iloc[:,9]', y='dataset.iloc[:,17].values.reshape(-1,1)', color='dataset.iloc[:,17]') ) \\\n",
    "        + geom_point(size=85,alpha=0.8) \\\n",
    "        + scale_color_gradient(low = 'yellow', high = 'blue') \\\n",
    "        + ggtitle(\"Per Capita Income per year\") \\\n",
    "        + xlab('Year') \\\n",
    "        + ylab('Per Capita Income') \\\n",
    "        + theme(axis.text=element_text(size=12))\n",
    "chart"
   ]
  },
  {
   "cell_type": "code",
   "execution_count": null,
   "metadata": {},
   "outputs": [],
   "source": [
    "chart = ggplot( dataset, aes(x='dataset.iloc[:,9]', y='dataset.iloc[:,14]') )\\\n",
    "        + geom_point(size=75,alpha=0.8) \\\n",
    "        + scale_color_gradient(low = 'yellow', high = 'blue') \\\n",
    "        + ggtitle(\"Crimes Occurance per year\") \\\n",
    "        + xlab('Year') \\\n",
    "        + ylab('Population') \n",
    "chart"
   ]
  }
 ],
 "metadata": {
  "kernelspec": {
   "display_name": "Python 3",
   "language": "python",
   "name": "python3"
  },
  "language_info": {
   "codemirror_mode": {
    "name": "ipython",
    "version": 3
   },
   "file_extension": ".py",
   "mimetype": "text/x-python",
   "name": "python",
   "nbconvert_exporter": "python",
   "pygments_lexer": "ipython3",
   "version": "3.6.4"
  }
 },
 "nbformat": 4,
 "nbformat_minor": 2
}
